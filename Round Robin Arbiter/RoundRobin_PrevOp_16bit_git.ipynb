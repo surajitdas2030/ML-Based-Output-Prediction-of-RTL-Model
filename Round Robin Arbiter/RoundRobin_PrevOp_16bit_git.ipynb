{
  "cells": [
    {
      "cell_type": "markdown",
      "metadata": {
        "id": "view-in-github",
        "colab_type": "text"
      },
      "source": [
        "<a href=\"https://colab.research.google.com/github/surajitdas2030/ML-Based-Output-Prediction-of-RTL-Model/blob/main/Round%20Robin%20Arbiter/RoundRobin_PrevOp_16bit_git.ipynb\" target=\"_parent\"><img src=\"https://colab.research.google.com/assets/colab-badge.svg\" alt=\"Open In Colab\"/></a>"
      ]
    },
    {
      "cell_type": "code",
      "execution_count": 25,
      "metadata": {
        "colab": {
          "base_uri": "https://localhost:8080/"
        },
        "id": "smVZu0ZkDIVL",
        "outputId": "939507cb-201a-4c5d-d374-40a97c3d8d28"
      },
      "outputs": [
        {
          "output_type": "stream",
          "name": "stdout",
          "text": [
            "Colab only includes TensorFlow 2.x; %tensorflow_version has no effect.\n"
          ]
        }
      ],
      "source": [
        "# only for Google Colab compatibiity\n",
        "try:\n",
        "  # %tensorflow_version only exists in Colab.\n",
        "  %tensorflow_version 2.x\n",
        "except Exception:\n",
        "  pass"
      ]
    },
    {
      "cell_type": "code",
      "execution_count": 26,
      "metadata": {
        "colab": {
          "base_uri": "https://localhost:8080/"
        },
        "id": "0qfLj-yKG04w",
        "outputId": "8e83b127-91ef-4707-f90f-4f7a688a8acc"
      },
      "outputs": [
        {
          "output_type": "stream",
          "name": "stdout",
          "text": [
            "2.11.0\n"
          ]
        }
      ],
      "source": [
        "import numpy as np\n",
        "import pandas as pd\n",
        "import tensorflow as tf\n",
        "from tensorflow.keras import models, layers, activations\n",
        "import random\n",
        "print(tf.__version__)\n",
        "np.random.seed(0)\n",
        "tf.random.set_seed(0)"
      ]
    },
    {
      "cell_type": "code",
      "execution_count": 27,
      "metadata": {
        "id": "e53-4_dhOvc7"
      },
      "outputs": [],
      "source": [
        "%matplotlib notebook"
      ]
    },
    {
      "cell_type": "code",
      "execution_count": 28,
      "metadata": {
        "id": "5c6XTFaMAf-f"
      },
      "outputs": [],
      "source": [
        "df = pd.read_csv('round_robin_16.txt',sep=\" \",header=None)\n",
        "col_str_dic = {column:str for column in list(df)}\n",
        "df = pd.read_csv(\"round_robin_16.txt\",sep=\" \",header=None, dtype=col_str_dic)\n",
        "x_gen = df.iloc[:,0]\n",
        "y_gen = df.iloc[:,1]\n",
        "x_samples=[]\n",
        "y_samples=[]\n",
        "for x in x_gen:\n",
        "  temp = list(x)\n",
        "  temp_list=[]\n",
        "  for c in temp:\n",
        "    temp_list.append(int(c))\n",
        "  x_samples.append(temp_list)\n",
        "for y in y_gen:\n",
        "  # print(y)\n",
        "  temp = list(y)\n",
        "  temp_list=[]\n",
        "  for c in temp:\n",
        "    temp_list.append(int(c))\n",
        "  y_samples.append(temp_list)"
      ]
    },
    {
      "cell_type": "markdown",
      "metadata": {
        "id": "xT3ZM-S6Afz0"
      },
      "source": []
    },
    {
      "cell_type": "code",
      "execution_count": 29,
      "metadata": {
        "id": "69M8fzA9Me2k"
      },
      "outputs": [],
      "source": [
        "x_s = []\n",
        "y_s = []\n",
        "k = len(x_samples)\n",
        "temp =[]\n",
        "temp.append(x_samples[0])\n",
        "temp.append(x_samples[0])\n",
        "x_s.append(temp)\n",
        "for i in range(1,k):\n",
        "  temp = []\n",
        "  temp.append(y_samples[i-1])\n",
        "  temp.append(x_samples[i])\n",
        "  x_s.append(temp)\n",
        "y_s = y_samples"
      ]
    },
    {
      "cell_type": "code",
      "execution_count": 30,
      "metadata": {
        "id": "e9DxNbchB-S6",
        "colab": {
          "base_uri": "https://localhost:8080/"
        },
        "outputId": "1647f043-f2ea-449f-ff0d-9c2974871d8a"
      },
      "outputs": [
        {
          "output_type": "execute_result",
          "data": {
            "text/plain": [
              "154924"
            ]
          },
          "metadata": {},
          "execution_count": 30
        }
      ],
      "source": [
        "len(y_s)"
      ]
    },
    {
      "cell_type": "code",
      "execution_count": 31,
      "metadata": {
        "id": "_cDMI7Y0G6U_",
        "colab": {
          "base_uri": "https://localhost:8080/"
        },
        "outputId": "d2baa54c-3291-42bb-cb1a-e4f2478df57d"
      },
      "outputs": [
        {
          "output_type": "stream",
          "name": "stdout",
          "text": [
            "[0 0 0 0 0 0 0 0 0 0 0 0 0 0 0 0 0 0 0 0 0 0 0 0 0 0 0 0 0 0 0 1]\n",
            "[0 0 0 0 0 0 0 0 0 0 0 0 0 0 0 1]\n"
          ]
        }
      ],
      "source": [
        "x_temp = np.array(x_s) # 16 inputs\n",
        "x_t = []\n",
        "for a in x_temp:\n",
        "  temp = a.flatten()\n",
        "  x_t.append(temp)\n",
        "x = np.array(x_t)\n",
        "print(x[1])\n",
        "y_temp = np.array(y_s) # 16 inputs\n",
        "y_t = []\n",
        "for a in y_temp:\n",
        "  temp = a.flatten()\n",
        "  y_t.append(temp)\n",
        "y = np.array(y_t)\n",
        "print(y[1])"
      ]
    },
    {
      "cell_type": "code",
      "execution_count": 32,
      "metadata": {
        "id": "4yvp6BOQRoGP"
      },
      "outputs": [],
      "source": [
        "from sklearn.model_selection import train_test_split\n",
        "x_train, x_test, y_train, y_test = train_test_split(x, y, test_size=0.3, shuffle=True)\n",
        "#x_train, x_test, y_train, y_test = train_test_split(x_samples, y_samples, test_size=0.3, shuffle=True)"
      ]
    },
    {
      "cell_type": "code",
      "execution_count": 33,
      "metadata": {
        "id": "ArLM-bGjP34l",
        "colab": {
          "base_uri": "https://localhost:8080/"
        },
        "outputId": "066a89d0-06f1-45a4-9c67-78bb47723097"
      },
      "outputs": [
        {
          "output_type": "stream",
          "name": "stdout",
          "text": [
            "Model: \"sequential_2\"\n",
            "_________________________________________________________________\n",
            " Layer (type)                Output Shape              Param #   \n",
            "=================================================================\n",
            " dense_6 (Dense)             (None, 32)                1056      \n",
            "                                                                 \n",
            " dense_7 (Dense)             (None, 16)                528       \n",
            "                                                                 \n",
            " dense_8 (Dense)             (None, 16)                272       \n",
            "                                                                 \n",
            "=================================================================\n",
            "Total params: 1,856\n",
            "Trainable params: 1,856\n",
            "Non-trainable params: 0\n",
            "_________________________________________________________________\n"
          ]
        }
      ],
      "source": [
        "#ANN1\n",
        "#model = models.Sequential(name='Parity_checker')\n",
        "#model.add(layers.Input(shape=(32,), name='input'))\n",
        "#model.add(layers.Dense(units=32,activation=activations.relu, name='hidden1'))\n",
        "## model.add(layers.Dense(units=3, activation=activations.sigmoid, name='hidden2'))\n",
        "#model.add(layers.Dense(units=1, activation=activations.sigmoid, name='output'))\n",
        "\n",
        "#add the layers\n",
        "#ANN2:0.99 accuracy\n",
        "# model = tf.keras.models.Sequential()\n",
        "# model.add(tf.keras.layers.Dense(64, input_dim=32, activation='relu'))\n",
        "# model.add(tf.keras.layers.Dense(32, activation='relu'))\n",
        "# model.add(tf.keras.layers.Dense(1, activation='sigmoid'))\n",
        "\n",
        "# ANN3:0.99 accuracy\n",
        "model = tf.keras.models.Sequential()\n",
        "model.add(tf.keras.layers.Dense(32, input_dim=32, activation='relu'))\n",
        "# model.add(tf.keras.layers.Dense(32, activation='relu'))\n",
        "# model.add(tf.keras.layers.Dense(24, activation='relu'))\n",
        "# model.add(tf.keras.layers.Dense(24, activation='relu'))\n",
        "model.add(tf.keras.layers.Dense(16, activation='relu'))\n",
        "model.add(tf.keras.layers.Dense(16, activation='sigmoid'))\n",
        "\n",
        "# model = tf.keras.models.Sequential()\n",
        "# model.add(tf.keras.layers.Dense(32, input_dim=16, activation='relu'))\n",
        "# # model.add(tf.keras.layers.Dense(32, activation='relu'))\n",
        "# model.add(tf.keras.layers.Dense(16, activation='relu'))\n",
        "# model.add(tf.keras.layers.Dense(8, activation='relu'))\n",
        "# model.add(tf.keras.layers.Dense(4, activation='relu'))\n",
        "# model.add(tf.keras.layers.Dense(2, activation='relu'))\n",
        "# model.add(tf.keras.layers.Dense(16, activation='sigmoid'))\n",
        "\n",
        "model.summary()"
      ]
    },
    {
      "cell_type": "code",
      "execution_count": 34,
      "metadata": {
        "id": "x23CuX8Kk8b6"
      },
      "outputs": [],
      "source": [
        "#model.compile(loss='binary_crossentropy', optimizer='adam',metrics=['accuracy'])\n",
        "model.compile(loss='mse', optimizer='adam',metrics=['accuracy'])"
      ]
    },
    {
      "cell_type": "markdown",
      "metadata": {
        "id": "pDYql-F7YGYA"
      },
      "source": [
        "Comparing the data and writing into the file ( **input_output_predict.txt**)\n",
        "\n",
        "Here the\n",
        "*  **x_text** is the input sample data\n",
        "*  **y_text** is the expected output data\n",
        "*  **y_predict** is predicted output data\n"
      ]
    },
    {
      "cell_type": "code",
      "execution_count": 35,
      "metadata": {
        "id": "F2j6Ej2ClAiZ",
        "colab": {
          "base_uri": "https://localhost:8080/"
        },
        "outputId": "e27cbde2-5305-4edd-831e-fcff7fb7df6c"
      },
      "outputs": [
        {
          "output_type": "stream",
          "name": "stdout",
          "text": [
            "Epoch 1/100\n",
            "3389/3389 [==============================] - 12s 3ms/step - loss: 0.0268 - accuracy: 0.7051\n",
            "Epoch 2/100\n",
            "3389/3389 [==============================] - 11s 3ms/step - loss: 0.0088 - accuracy: 0.9056\n",
            "Epoch 3/100\n",
            "3389/3389 [==============================] - 11s 3ms/step - loss: 0.0060 - accuracy: 0.9361\n",
            "Epoch 4/100\n",
            "3389/3389 [==============================] - 11s 3ms/step - loss: 0.0047 - accuracy: 0.9446\n",
            "Epoch 5/100\n",
            "3389/3389 [==============================] - 11s 3ms/step - loss: 0.0040 - accuracy: 0.9475\n",
            "Epoch 6/100\n",
            "3389/3389 [==============================] - 10s 3ms/step - loss: 0.0037 - accuracy: 0.9488\n",
            "Epoch 7/100\n",
            "3389/3389 [==============================] - 11s 3ms/step - loss: 0.0035 - accuracy: 0.9501\n",
            "Epoch 8/100\n",
            "3389/3389 [==============================] - 11s 3ms/step - loss: 0.0033 - accuracy: 0.9524\n",
            "Epoch 9/100\n",
            "3389/3389 [==============================] - 11s 3ms/step - loss: 0.0032 - accuracy: 0.9535\n",
            "Epoch 10/100\n",
            "3389/3389 [==============================] - 11s 3ms/step - loss: 0.0031 - accuracy: 0.9537\n",
            "Epoch 11/100\n",
            "3389/3389 [==============================] - 11s 3ms/step - loss: 0.0031 - accuracy: 0.9537\n",
            "Epoch 12/100\n",
            "3389/3389 [==============================] - 11s 3ms/step - loss: 0.0030 - accuracy: 0.9537\n",
            "Epoch 13/100\n",
            "3389/3389 [==============================] - 11s 3ms/step - loss: 0.0030 - accuracy: 0.9538\n",
            "Epoch 14/100\n",
            "3389/3389 [==============================] - 10s 3ms/step - loss: 0.0030 - accuracy: 0.9539\n",
            "Epoch 15/100\n",
            "3389/3389 [==============================] - 11s 3ms/step - loss: 0.0030 - accuracy: 0.9540\n",
            "Epoch 16/100\n",
            "3389/3389 [==============================] - 11s 3ms/step - loss: 0.0030 - accuracy: 0.9540\n",
            "Epoch 17/100\n",
            "3389/3389 [==============================] - 11s 3ms/step - loss: 0.0029 - accuracy: 0.9541\n",
            "Epoch 18/100\n",
            "3389/3389 [==============================] - 11s 3ms/step - loss: 0.0029 - accuracy: 0.9543\n",
            "Epoch 19/100\n",
            "3389/3389 [==============================] - 11s 3ms/step - loss: 0.0029 - accuracy: 0.9544\n",
            "Epoch 20/100\n",
            "3389/3389 [==============================] - 11s 3ms/step - loss: 0.0029 - accuracy: 0.9544\n",
            "Epoch 21/100\n",
            "3389/3389 [==============================] - 10s 3ms/step - loss: 0.0029 - accuracy: 0.9545\n",
            "Epoch 22/100\n",
            "3389/3389 [==============================] - 10s 3ms/step - loss: 0.0029 - accuracy: 0.9546\n",
            "Epoch 23/100\n",
            "3389/3389 [==============================] - 11s 3ms/step - loss: 0.0029 - accuracy: 0.9546\n",
            "Epoch 24/100\n",
            "3389/3389 [==============================] - 11s 3ms/step - loss: 0.0029 - accuracy: 0.9546\n",
            "Epoch 25/100\n",
            "3389/3389 [==============================] - 11s 3ms/step - loss: 0.0029 - accuracy: 0.9547\n",
            "Epoch 26/100\n",
            "3389/3389 [==============================] - 11s 3ms/step - loss: 0.0029 - accuracy: 0.9548\n",
            "Epoch 27/100\n",
            "3389/3389 [==============================] - 11s 3ms/step - loss: 0.0029 - accuracy: 0.9548\n",
            "Epoch 28/100\n",
            "3389/3389 [==============================] - 11s 3ms/step - loss: 0.0029 - accuracy: 0.9548\n",
            "Epoch 29/100\n",
            "3389/3389 [==============================] - 10s 3ms/step - loss: 0.0029 - accuracy: 0.9549\n",
            "Epoch 30/100\n",
            "3389/3389 [==============================] - 10s 3ms/step - loss: 0.0029 - accuracy: 0.9551\n",
            "Epoch 31/100\n",
            "3389/3389 [==============================] - 11s 3ms/step - loss: 0.0029 - accuracy: 0.9552\n",
            "Epoch 32/100\n",
            "3389/3389 [==============================] - 11s 3ms/step - loss: 0.0028 - accuracy: 0.9558\n",
            "Epoch 33/100\n",
            "3389/3389 [==============================] - 11s 3ms/step - loss: 0.0028 - accuracy: 0.9558\n",
            "Epoch 34/100\n",
            "3389/3389 [==============================] - 11s 3ms/step - loss: 0.0028 - accuracy: 0.9559\n",
            "Epoch 35/100\n",
            "3389/3389 [==============================] - 11s 3ms/step - loss: 0.0028 - accuracy: 0.9559\n",
            "Epoch 36/100\n",
            "3389/3389 [==============================] - 11s 3ms/step - loss: 0.0028 - accuracy: 0.9559\n",
            "Epoch 37/100\n",
            "3389/3389 [==============================] - 10s 3ms/step - loss: 0.0028 - accuracy: 0.9560\n",
            "Epoch 38/100\n",
            "3389/3389 [==============================] - 11s 3ms/step - loss: 0.0028 - accuracy: 0.9560\n",
            "Epoch 39/100\n",
            "3389/3389 [==============================] - 11s 3ms/step - loss: 0.0028 - accuracy: 0.9560\n",
            "Epoch 40/100\n",
            "3389/3389 [==============================] - 11s 3ms/step - loss: 0.0028 - accuracy: 0.9560\n",
            "Epoch 41/100\n",
            "3389/3389 [==============================] - 11s 3ms/step - loss: 0.0028 - accuracy: 0.9560\n",
            "Epoch 42/100\n",
            "3389/3389 [==============================] - 11s 3ms/step - loss: 0.0028 - accuracy: 0.9560\n",
            "Epoch 43/100\n",
            "3389/3389 [==============================] - 11s 3ms/step - loss: 0.0028 - accuracy: 0.9561\n",
            "Epoch 44/100\n",
            "3389/3389 [==============================] - 10s 3ms/step - loss: 0.0028 - accuracy: 0.9561\n",
            "Epoch 45/100\n",
            "3389/3389 [==============================] - 10s 3ms/step - loss: 0.0028 - accuracy: 0.9561\n",
            "Epoch 46/100\n",
            "3389/3389 [==============================] - 11s 3ms/step - loss: 0.0028 - accuracy: 0.9561\n",
            "Epoch 47/100\n",
            "3389/3389 [==============================] - 11s 3ms/step - loss: 0.0028 - accuracy: 0.9562\n",
            "Epoch 48/100\n",
            "3389/3389 [==============================] - 11s 3ms/step - loss: 0.0028 - accuracy: 0.9562\n",
            "Epoch 49/100\n",
            "3389/3389 [==============================] - 11s 3ms/step - loss: 0.0028 - accuracy: 0.9562\n",
            "Epoch 50/100\n",
            "3389/3389 [==============================] - 11s 3ms/step - loss: 0.0028 - accuracy: 0.9562\n",
            "Epoch 51/100\n",
            "3389/3389 [==============================] - 11s 3ms/step - loss: 0.0026 - accuracy: 0.9594\n",
            "Epoch 52/100\n",
            "3389/3389 [==============================] - 10s 3ms/step - loss: 0.0025 - accuracy: 0.9598\n",
            "Epoch 53/100\n",
            "3389/3389 [==============================] - 10s 3ms/step - loss: 0.0025 - accuracy: 0.9598\n",
            "Epoch 54/100\n",
            "3389/3389 [==============================] - 11s 3ms/step - loss: 0.0025 - accuracy: 0.9598\n",
            "Epoch 55/100\n",
            "3389/3389 [==============================] - 11s 3ms/step - loss: 0.0025 - accuracy: 0.9599\n",
            "Epoch 56/100\n",
            "3389/3389 [==============================] - 11s 3ms/step - loss: 0.0025 - accuracy: 0.9600\n",
            "Epoch 57/100\n",
            "3389/3389 [==============================] - 11s 3ms/step - loss: 0.0025 - accuracy: 0.9599\n",
            "Epoch 58/100\n",
            "3389/3389 [==============================] - 11s 3ms/step - loss: 0.0025 - accuracy: 0.9599\n",
            "Epoch 59/100\n",
            "3389/3389 [==============================] - 11s 3ms/step - loss: 0.0025 - accuracy: 0.9599\n",
            "Epoch 60/100\n",
            "3389/3389 [==============================] - 10s 3ms/step - loss: 0.0025 - accuracy: 0.9598\n",
            "Epoch 61/100\n",
            "3389/3389 [==============================] - 11s 3ms/step - loss: 0.0025 - accuracy: 0.9599\n",
            "Epoch 62/100\n",
            "3389/3389 [==============================] - 11s 3ms/step - loss: 0.0025 - accuracy: 0.9599\n",
            "Epoch 63/100\n",
            "3389/3389 [==============================] - 11s 3ms/step - loss: 0.0025 - accuracy: 0.9599\n",
            "Epoch 64/100\n",
            "3389/3389 [==============================] - 11s 3ms/step - loss: 0.0025 - accuracy: 0.9599\n",
            "Epoch 65/100\n",
            "3389/3389 [==============================] - 11s 3ms/step - loss: 0.0025 - accuracy: 0.9599\n",
            "Epoch 66/100\n",
            "3389/3389 [==============================] - 11s 3ms/step - loss: 0.0025 - accuracy: 0.9599\n",
            "Epoch 67/100\n",
            "3389/3389 [==============================] - 10s 3ms/step - loss: 0.0025 - accuracy: 0.9600\n",
            "Epoch 68/100\n",
            "3389/3389 [==============================] - 10s 3ms/step - loss: 0.0025 - accuracy: 0.9599\n",
            "Epoch 69/100\n",
            "3389/3389 [==============================] - 11s 3ms/step - loss: 0.0025 - accuracy: 0.9599\n",
            "Epoch 70/100\n",
            "3389/3389 [==============================] - 11s 3ms/step - loss: 0.0025 - accuracy: 0.9600\n",
            "Epoch 71/100\n",
            "3389/3389 [==============================] - 11s 3ms/step - loss: 0.0025 - accuracy: 0.9601\n",
            "Epoch 72/100\n",
            "3389/3389 [==============================] - 11s 3ms/step - loss: 0.0025 - accuracy: 0.9601\n",
            "Epoch 73/100\n",
            "3389/3389 [==============================] - 11s 3ms/step - loss: 0.0025 - accuracy: 0.9601\n",
            "Epoch 74/100\n",
            "3389/3389 [==============================] - 11s 3ms/step - loss: 0.0025 - accuracy: 0.9601\n",
            "Epoch 75/100\n",
            "3389/3389 [==============================] - 10s 3ms/step - loss: 0.0025 - accuracy: 0.9603\n",
            "Epoch 76/100\n",
            "3389/3389 [==============================] - 11s 3ms/step - loss: 0.0025 - accuracy: 0.9603\n",
            "Epoch 77/100\n",
            "3389/3389 [==============================] - 11s 3ms/step - loss: 0.0025 - accuracy: 0.9602\n",
            "Epoch 78/100\n",
            "3389/3389 [==============================] - 11s 3ms/step - loss: 0.0025 - accuracy: 0.9603\n",
            "Epoch 79/100\n",
            "3389/3389 [==============================] - 11s 3ms/step - loss: 0.0025 - accuracy: 0.9605\n",
            "Epoch 80/100\n",
            "3389/3389 [==============================] - 11s 3ms/step - loss: 0.0025 - accuracy: 0.9611\n",
            "Epoch 81/100\n",
            "3389/3389 [==============================] - 11s 3ms/step - loss: 0.0025 - accuracy: 0.9621\n",
            "Epoch 82/100\n",
            "3389/3389 [==============================] - 11s 3ms/step - loss: 0.0024 - accuracy: 0.9633\n",
            "Epoch 83/100\n",
            "3389/3389 [==============================] - 10s 3ms/step - loss: 0.0024 - accuracy: 0.9642\n",
            "Epoch 84/100\n",
            "3389/3389 [==============================] - 11s 3ms/step - loss: 0.0019 - accuracy: 0.9728\n",
            "Epoch 85/100\n",
            "3389/3389 [==============================] - 11s 3ms/step - loss: 0.0017 - accuracy: 0.9741\n",
            "Epoch 86/100\n",
            "3389/3389 [==============================] - 11s 3ms/step - loss: 0.0017 - accuracy: 0.9741\n",
            "Epoch 87/100\n",
            "3389/3389 [==============================] - 11s 3ms/step - loss: 0.0017 - accuracy: 0.9742\n",
            "Epoch 88/100\n",
            "3389/3389 [==============================] - 11s 3ms/step - loss: 0.0016 - accuracy: 0.9742\n",
            "Epoch 89/100\n",
            "3389/3389 [==============================] - 11s 3ms/step - loss: 0.0016 - accuracy: 0.9743\n",
            "Epoch 90/100\n",
            "3389/3389 [==============================] - 10s 3ms/step - loss: 0.0016 - accuracy: 0.9743\n",
            "Epoch 91/100\n",
            "3389/3389 [==============================] - 10s 3ms/step - loss: 0.0016 - accuracy: 0.9743\n",
            "Epoch 92/100\n",
            "3389/3389 [==============================] - 11s 3ms/step - loss: 0.0016 - accuracy: 0.9743\n",
            "Epoch 93/100\n",
            "3389/3389 [==============================] - 11s 3ms/step - loss: 0.0016 - accuracy: 0.9744\n",
            "Epoch 94/100\n",
            "3389/3389 [==============================] - 11s 3ms/step - loss: 0.0016 - accuracy: 0.9744\n",
            "Epoch 95/100\n",
            "3389/3389 [==============================] - 11s 3ms/step - loss: 0.0016 - accuracy: 0.9744\n",
            "Epoch 96/100\n",
            "3389/3389 [==============================] - 11s 3ms/step - loss: 0.0016 - accuracy: 0.9744\n",
            "Epoch 97/100\n",
            "3389/3389 [==============================] - 11s 3ms/step - loss: 0.0016 - accuracy: 0.9744\n",
            "Epoch 98/100\n",
            "3389/3389 [==============================] - 10s 3ms/step - loss: 0.0016 - accuracy: 0.9744\n",
            "Epoch 99/100\n",
            "3389/3389 [==============================] - 10s 3ms/step - loss: 0.0016 - accuracy: 0.9744\n",
            "Epoch 100/100\n",
            "3389/3389 [==============================] - 11s 3ms/step - loss: 0.0016 - accuracy: 0.9744\n",
            "1453/1453 - 2s - loss: 0.0016 - accuracy: 0.9748 - 2s/epoch - 2ms/step\n"
          ]
        }
      ],
      "source": [
        "model.fit(x_train, y_train, epochs=100)\n",
        "score = model.evaluate(x_test, y_test, verbose=2)"
      ]
    },
    {
      "cell_type": "code",
      "execution_count": 36,
      "metadata": {
        "id": "lznry1JxVlab",
        "colab": {
          "base_uri": "https://localhost:8080/"
        },
        "outputId": "61071ce8-02ba-4643-e050-bf728fe7565d"
      },
      "outputs": [
        {
          "output_type": "stream",
          "name": "stdout",
          "text": [
            "1453/1453 [==============================] - 2s 1ms/step\n",
            "[0 0 0 0 0 0 0 0 0 0 0 1 0 0 0 0 1 1 1 1 1 1 1 1 1 1 1 1 1 1 1 1]   [0 0 0 0 0 0 0 0 0 0 1 0 0 0 0 0]   [0. 0. 0. 0. 0. 0. 0. 0. 0. 0. 1. 0. 0. 0. 0. 0.]\n",
            "\n",
            "\n",
            "[0 0 0 0 0 0 0 0 0 0 1 0 0 0 0 0 1 1 1 1 1 1 1 1 1 1 1 1 1 1 1 1]   [0 0 0 0 0 0 0 0 0 1 0 0 0 0 0 0]   [0. 0. 0. 0. 0. 0. 0. 0. 0. 1. 0. 0. 0. 0. 0. 0.]\n",
            "\n",
            "\n",
            "[0 1 0 0 0 0 0 0 0 0 0 0 0 0 0 0 1 1 1 1 1 1 1 1 1 1 1 1 1 1 1 1]   [1 0 0 0 0 0 0 0 0 0 0 0 0 0 0 0]   [1. 0. 0. 0. 0. 0. 0. 0. 0. 0. 0. 0. 0. 0. 0. 0.]\n",
            "\n",
            "\n",
            "[0 0 0 0 0 0 0 0 1 0 0 0 0 0 0 0 1 1 1 1 1 1 1 1 1 1 1 1 1 1 1 1]   [0 0 0 0 0 0 0 1 0 0 0 0 0 0 0 0]   [0. 0. 0. 0. 0. 0. 0. 1. 0. 0. 0. 0. 0. 0. 0. 0.]\n",
            "\n",
            "\n",
            "[0 0 0 0 0 0 0 0 1 0 0 0 0 0 0 0 0 0 0 1 0 0 1 1 1 1 1 1 0 1 0 0]   [0 0 0 0 0 0 0 1 0 0 0 0 0 0 0 0]   [0. 0. 0. 0. 0. 0. 0. 1. 0. 0. 0. 0. 0. 0. 0. 0.]\n",
            "\n",
            "\n",
            "[1 0 0 0 0 0 0 0 0 0 0 0 0 0 0 0 1 1 1 1 1 1 1 1 1 1 1 1 1 1 1 1]   [0 0 0 0 0 0 0 0 0 0 0 0 0 0 0 1]   [0. 0. 0. 0. 0. 0. 0. 0. 0. 0. 0. 0. 0. 0. 0. 1.]\n",
            "\n",
            "\n",
            "[0 0 0 0 0 0 0 0 0 0 1 0 0 0 0 0 0 1 1 1 0 0 1 0 0 0 1 0 1 0 1 0]   [0 0 0 0 0 0 1 0 0 0 0 0 0 0 0 0]   [0. 0. 0. 0. 0. 0. 1. 0. 0. 0. 0. 0. 0. 0. 0. 0.]\n",
            "\n",
            "\n",
            "[0 0 0 0 1 0 0 0 0 0 0 0 0 0 0 0 0 1 1 1 1 1 1 1 1 0 1 0 1 1 1 1]   [0 0 0 1 0 0 0 0 0 0 0 0 0 0 0 0]   [0. 0. 0. 1. 0. 0. 0. 0. 0. 0. 0. 0. 0. 0. 0. 0.]\n",
            "\n",
            "\n",
            "[1 0 0 0 0 0 0 0 0 0 0 0 0 0 0 0 1 1 1 1 1 1 1 1 1 1 1 1 1 1 1 1]   [0 0 0 0 0 0 0 0 0 0 0 0 0 0 0 1]   [0. 0. 0. 0. 0. 0. 0. 0. 0. 0. 0. 0. 0. 0. 0. 1.]\n",
            "\n",
            "\n",
            "[0 0 1 0 0 0 0 0 0 0 0 0 0 0 0 0 1 1 1 1 1 1 1 1 1 1 1 1 1 1 1 1]   [0 1 0 0 0 0 0 0 0 0 0 0 0 0 0 0]   [0. 1. 0. 0. 0. 0. 0. 0. 0. 0. 0. 0. 0. 0. 0. 0.]\n",
            "\n",
            "\n"
          ]
        }
      ],
      "source": [
        "#Comparing the data and writing into the file ( input_output_predict.txt)\n",
        "y_predict = model.predict(x_test).round()\n",
        "\n",
        "for i in range(10,20):\n",
        "  print(x_test[100+i],\" \",y_test[100+i],\" \",y_predict[100+i])\n",
        "  print(\"\\n\")\n",
        "# f = open(\"input_output_predict.txt\", \"w\")\n",
        "# n = y_test.size\n",
        "# cnt = 0\n",
        "# for i in range(0,n-1):\n",
        "#     # f.write(\"[\")\n",
        "#     # count = 0\n",
        "#     # for x in x_test[i]:\n",
        "#     #     for j in x:\n",
        "#     #       f.write(str(j)+\",\")\n",
        "#     # f.write(\"];\\t\")\n",
        "#     # f.write(\"[\"+str(y_test[i])+\"];\\t\")\n",
        "#     # f.write(\"[\"+str(y_predict[i])+\"];\\t \\n\")\n",
        "#     ok=1\n",
        "#     # print(\"hi\")\n",
        "#     # print(len(y_test[i]))\n",
        "#     for  y,y_ex in zip(y_test[i],y_predict[i]):\n",
        "#       if y!=y_ex:\n",
        "#         ok=0\n",
        "#     cnt+=ok\n",
        "# f.write(\"Number of matches: \"+str(cnt)+\" out of \" + str(n) +\"\\n\")\n",
        "# f.close()\n",
        "# print(\"Number of matches: \"+str(cnt)+\" out of \" + str(n) )\n",
        " "
      ]
    },
    {
      "cell_type": "code",
      "source": [],
      "metadata": {
        "id": "YEo9vneC1RiB"
      },
      "execution_count": 36,
      "outputs": []
    }
  ],
  "metadata": {
    "colab": {
      "provenance": [],
      "include_colab_link": true
    },
    "kernelspec": {
      "display_name": "Python 3",
      "name": "python3"
    },
    "language_info": {
      "name": "python"
    },
    "accelerator": "GPU",
    "gpuClass": "standard"
  },
  "nbformat": 4,
  "nbformat_minor": 0
}