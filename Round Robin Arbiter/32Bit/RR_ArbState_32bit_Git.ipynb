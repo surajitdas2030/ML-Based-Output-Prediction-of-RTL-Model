{
  "cells": [
    {
      "cell_type": "markdown",
      "metadata": {
        "id": "view-in-github",
        "colab_type": "text"
      },
      "source": [
        "<a href=\"https://colab.research.google.com/github/surajitdas2030/ML-Based-Output-Prediction-of-RTL-Model/blob/main/Round%20Robin%20Arbiter/32Bit/RR_ArbState_32bit_Git.ipynb\" target=\"_parent\"><img src=\"https://colab.research.google.com/assets/colab-badge.svg\" alt=\"Open In Colab\"/></a>"
      ]
    },
    {
      "cell_type": "code",
      "execution_count": null,
      "metadata": {
        "colab": {
          "base_uri": "https://localhost:8080/"
        },
        "id": "smVZu0ZkDIVL",
        "outputId": "914b109c-35af-42a0-c3e3-bf34d4e1a87e"
      },
      "outputs": [
        {
          "output_type": "stream",
          "name": "stdout",
          "text": [
            "Colab only includes TensorFlow 2.x; %tensorflow_version has no effect.\n"
          ]
        }
      ],
      "source": [
        "# only for Google Colab compatibiity\n",
        "try:\n",
        "  # %tensorflow_version only exists in Colab.\n",
        "  %tensorflow_version 2.x\n",
        "except Exception:\n",
        "  pass"
      ]
    },
    {
      "cell_type": "code",
      "execution_count": null,
      "metadata": {
        "colab": {
          "base_uri": "https://localhost:8080/"
        },
        "id": "0qfLj-yKG04w",
        "outputId": "d0bc29a0-c9cd-4b06-fef0-6934b028c54f"
      },
      "outputs": [
        {
          "output_type": "stream",
          "name": "stdout",
          "text": [
            "2.11.0\n"
          ]
        }
      ],
      "source": [
        "import numpy as np\n",
        "import pandas as pd\n",
        "import tensorflow as tf\n",
        "from tensorflow.keras import models, layers, activations\n",
        "import random\n",
        "print(tf.__version__)\n",
        "np.random.seed(0)\n",
        "tf.random.set_seed(0)"
      ]
    },
    {
      "cell_type": "code",
      "execution_count": null,
      "metadata": {
        "id": "e53-4_dhOvc7"
      },
      "outputs": [],
      "source": [
        "%matplotlib notebook"
      ]
    },
    {
      "cell_type": "code",
      "execution_count": null,
      "metadata": {
        "id": "5c6XTFaMAf-f"
      },
      "outputs": [],
      "source": [
        "df = pd.read_csv('round_robin_32_2.txt',sep=\" \",header=None)\n",
        "col_str_dic = {column:str for column in list(df)}\n",
        "df = pd.read_csv(\"round_robin_32_2.txt\",sep=\" \",header=None, dtype=col_str_dic)\n",
        "x_gen = df.iloc[:,0]\n",
        "y_gen = df.iloc[:,1]\n",
        "x_samples=[]\n",
        "y_samples=[]\n",
        "for x in x_gen:\n",
        "  temp = list(x)\n",
        "  temp_list=[]\n",
        "  for c in temp:\n",
        "    temp_list.append(int(c))\n",
        "  x_samples.append(temp_list)\n",
        "for y in y_gen:\n",
        "  # print(y)\n",
        "  temp = list(y)\n",
        "  temp_list=[]\n",
        "  for c in temp:\n",
        "    temp_list.append(int(c))\n",
        "  y_samples.append(temp_list)"
      ]
    },
    {
      "cell_type": "markdown",
      "metadata": {
        "id": "xT3ZM-S6Afz0"
      },
      "source": []
    },
    {
      "cell_type": "code",
      "execution_count": null,
      "metadata": {
        "id": "69M8fzA9Me2k"
      },
      "outputs": [],
      "source": [
        "x_s = []\n",
        "y_s = []\n",
        "k = len(x_samples)\n",
        "temp =[]\n",
        "temp.append(x_samples[0])\n",
        "temp.append(x_samples[0])\n",
        "x_s.append(temp)\n",
        "for i in range(1,k):\n",
        "  temp = []\n",
        "  temp.append(y_samples[i-1])\n",
        "  temp.append(x_samples[i])\n",
        "  x_s.append(temp)\n",
        "y_s = y_samples"
      ]
    },
    {
      "cell_type": "code",
      "execution_count": null,
      "metadata": {
        "id": "e9DxNbchB-S6",
        "colab": {
          "base_uri": "https://localhost:8080/"
        },
        "outputId": "5863e3b5-75d5-4da6-8909-65a73b6f54f5"
      },
      "outputs": [
        {
          "output_type": "execute_result",
          "data": {
            "text/plain": [
              "326313"
            ]
          },
          "metadata": {},
          "execution_count": 6
        }
      ],
      "source": [
        "len(y_s)"
      ]
    },
    {
      "cell_type": "code",
      "execution_count": null,
      "metadata": {
        "id": "_cDMI7Y0G6U_",
        "colab": {
          "base_uri": "https://localhost:8080/"
        },
        "outputId": "4fbc841d-2a94-4801-fb55-a100a26c747e"
      },
      "outputs": [
        {
          "output_type": "stream",
          "name": "stdout",
          "text": [
            "[0 0 0 0 0 0 0 0 0 0 0 0 0 0 0 0 0 0 0 0 0 0 0 0 0 0 0 0 0 0 0 0 0 0 0 0 0\n",
            " 0 0 0 0 0 0 0 0 0 0 0 0 0 0 0 0 0 0 0 0 0 0 0 0 0 0 1]\n",
            "[0 0 0 0 0 0 0 0 0 0 0 0 0 0 0 0 0 0 0 0 0 0 0 0 0 0 0 0 0 0 0 1]\n"
          ]
        }
      ],
      "source": [
        "x_temp = np.array(x_s) # 16 inputs\n",
        "x_t = []\n",
        "for a in x_temp:\n",
        "  temp = a.flatten()\n",
        "  x_t.append(temp)\n",
        "x = np.array(x_t)\n",
        "print(x[1])\n",
        "y_temp = np.array(y_s) # 16 inputs\n",
        "y_t = []\n",
        "for a in y_temp:\n",
        "  temp = a.flatten()\n",
        "  y_t.append(temp)\n",
        "y = np.array(y_t)\n",
        "print(y[1])"
      ]
    },
    {
      "cell_type": "code",
      "execution_count": null,
      "metadata": {
        "id": "4yvp6BOQRoGP"
      },
      "outputs": [],
      "source": [
        "from sklearn.model_selection import train_test_split\n",
        "x_train, x_test, y_train, y_test = train_test_split(x, y, test_size=0.3, shuffle=True)\n",
        "#x_train, x_test, y_train, y_test = train_test_split(x_samples, y_samples, test_size=0.3, shuffle=True)"
      ]
    },
    {
      "cell_type": "code",
      "execution_count": null,
      "metadata": {
        "id": "ArLM-bGjP34l",
        "colab": {
          "base_uri": "https://localhost:8080/"
        },
        "outputId": "362d1591-7244-48c7-ae6e-be27a390130d"
      },
      "outputs": [
        {
          "output_type": "stream",
          "name": "stdout",
          "text": [
            "Model: \"sequential\"\n",
            "_________________________________________________________________\n",
            " Layer (type)                Output Shape              Param #   \n",
            "=================================================================\n",
            " dense (Dense)               (None, 64)                4160      \n",
            "                                                                 \n",
            " dense_1 (Dense)             (None, 32)                2080      \n",
            "                                                                 \n",
            " dense_2 (Dense)             (None, 32)                1056      \n",
            "                                                                 \n",
            "=================================================================\n",
            "Total params: 7,296\n",
            "Trainable params: 7,296\n",
            "Non-trainable params: 0\n",
            "_________________________________________________________________\n"
          ]
        }
      ],
      "source": [
        "#ANN1\n",
        "#model = models.Sequential(name='Parity_checker')\n",
        "#model.add(layers.Input(shape=(32,), name='input'))\n",
        "#model.add(layers.Dense(units=32,activation=activations.relu, name='hidden1'))\n",
        "## model.add(layers.Dense(units=3, activation=activations.sigmoid, name='hidden2'))\n",
        "#model.add(layers.Dense(units=1, activation=activations.sigmoid, name='output'))\n",
        "\n",
        "#add the layers\n",
        "#ANN2:0.99 accuracy\n",
        "# model = tf.keras.models.Sequential()\n",
        "# model.add(tf.keras.layers.Dense(64, input_dim=32, activation='relu'))\n",
        "# model.add(tf.keras.layers.Dense(32, activation='relu'))\n",
        "# model.add(tf.keras.layers.Dense(1, activation='sigmoid'))\n",
        "\n",
        "# ANN3:0.99 accuracy\n",
        "model = tf.keras.models.Sequential()\n",
        "model.add(tf.keras.layers.Dense(64, input_dim=64, activation='relu'))\n",
        "# model.add(tf.keras.layers.Dense(32, activation='relu'))\n",
        "# model.add(tf.keras.layers.Dense(24, activation='relu'))\n",
        "# model.add(tf.keras.layers.Dense(24, activation='relu'))\n",
        "model.add(tf.keras.layers.Dense(32, activation='relu'))\n",
        "model.add(tf.keras.layers.Dense(32, activation='sigmoid'))\n",
        "\n",
        "# model = tf.keras.models.Sequential()\n",
        "# model.add(tf.keras.layers.Dense(32, input_dim=16, activation='relu'))\n",
        "# # model.add(tf.keras.layers.Dense(32, activation='relu'))\n",
        "# model.add(tf.keras.layers.Dense(16, activation='relu'))\n",
        "# model.add(tf.keras.layers.Dense(8, activation='relu'))\n",
        "# model.add(tf.keras.layers.Dense(4, activation='relu'))\n",
        "# model.add(tf.keras.layers.Dense(2, activation='relu'))\n",
        "# model.add(tf.keras.layers.Dense(16, activation='sigmoid'))\n",
        "\n",
        "model.summary()"
      ]
    },
    {
      "cell_type": "code",
      "execution_count": null,
      "metadata": {
        "id": "x23CuX8Kk8b6"
      },
      "outputs": [],
      "source": [
        "#model.compile(loss='binary_crossentropy', optimizer='adam',metrics=['accuracy'])\n",
        "model.compile(loss='mse', optimizer='adam',metrics=['accuracy'])"
      ]
    },
    {
      "cell_type": "markdown",
      "metadata": {
        "id": "pDYql-F7YGYA"
      },
      "source": [
        "Comparing the data and writing into the file ( **input_output_predict.txt**)\n",
        "\n",
        "Here the\n",
        "*  **x_text** is the input sample data\n",
        "*  **y_text** is the expected output data\n",
        "*  **y_predict** is predicted output data\n"
      ]
    },
    {
      "cell_type": "code",
      "execution_count": null,
      "metadata": {
        "id": "F2j6Ej2ClAiZ",
        "colab": {
          "base_uri": "https://localhost:8080/"
        },
        "outputId": "2075a718-40b4-4cd6-dde1-cb77f1b1371a"
      },
      "outputs": [
        {
          "output_type": "stream",
          "name": "stdout",
          "text": [
            "Epoch 1/20\n",
            "7139/7139 [==============================] - 28s 3ms/step - loss: 0.0084 - accuracy: 0.8424\n",
            "Epoch 2/20\n",
            "7139/7139 [==============================] - 22s 3ms/step - loss: 8.3984e-04 - accuracy: 0.9904\n",
            "Epoch 3/20\n",
            "7139/7139 [==============================] - 22s 3ms/step - loss: 4.4194e-04 - accuracy: 0.9924\n",
            "Epoch 4/20\n",
            "7139/7139 [==============================] - 22s 3ms/step - loss: 3.0526e-04 - accuracy: 0.9939\n",
            "Epoch 5/20\n",
            "7139/7139 [==============================] - 23s 3ms/step - loss: 2.2981e-04 - accuracy: 0.9953\n",
            "Epoch 6/20\n",
            "7139/7139 [==============================] - 23s 3ms/step - loss: 2.1089e-04 - accuracy: 0.9954\n",
            "Epoch 7/20\n",
            "7139/7139 [==============================] - 23s 3ms/step - loss: 1.9656e-04 - accuracy: 0.9959\n",
            "Epoch 8/20\n",
            "7139/7139 [==============================] - 23s 3ms/step - loss: 1.4964e-04 - accuracy: 0.9970\n",
            "Epoch 9/20\n",
            "7139/7139 [==============================] - 22s 3ms/step - loss: 1.4398e-04 - accuracy: 0.9970\n",
            "Epoch 10/20\n",
            "7139/7139 [==============================] - 22s 3ms/step - loss: 1.4241e-04 - accuracy: 0.9970\n",
            "Epoch 11/20\n",
            "7139/7139 [==============================] - 22s 3ms/step - loss: 1.3831e-04 - accuracy: 0.9971\n",
            "Epoch 12/20\n",
            "7139/7139 [==============================] - 22s 3ms/step - loss: 1.3156e-04 - accuracy: 0.9972\n",
            "Epoch 13/20\n",
            "7139/7139 [==============================] - 22s 3ms/step - loss: 1.2854e-04 - accuracy: 0.9972\n",
            "Epoch 14/20\n",
            "7139/7139 [==============================] - 22s 3ms/step - loss: 1.3030e-04 - accuracy: 0.9973\n",
            "Epoch 15/20\n",
            "7139/7139 [==============================] - 23s 3ms/step - loss: 1.2398e-04 - accuracy: 0.9974\n",
            "Epoch 16/20\n",
            "7139/7139 [==============================] - 22s 3ms/step - loss: 1.0677e-04 - accuracy: 0.9979\n",
            "Epoch 17/20\n",
            "7139/7139 [==============================] - 23s 3ms/step - loss: 1.0386e-04 - accuracy: 0.9978\n",
            "Epoch 18/20\n",
            "7139/7139 [==============================] - 22s 3ms/step - loss: 1.0122e-04 - accuracy: 0.9980\n",
            "Epoch 19/20\n",
            "7139/7139 [==============================] - 22s 3ms/step - loss: 9.9396e-05 - accuracy: 0.9978\n",
            "Epoch 20/20\n",
            "7139/7139 [==============================] - 22s 3ms/step - loss: 9.9929e-05 - accuracy: 0.9982\n",
            "3060/3060 - 5s - loss: 1.0532e-04 - accuracy: 0.9975 - 5s/epoch - 2ms/step\n"
          ]
        }
      ],
      "source": [
        "model.fit(x_train, y_train, epochs=20)\n",
        "score = model.evaluate(x_test, y_test, verbose=2)"
      ]
    },
    {
      "cell_type": "code",
      "execution_count": null,
      "metadata": {
        "id": "lznry1JxVlab",
        "colab": {
          "base_uri": "https://localhost:8080/"
        },
        "outputId": "dbcb038d-f873-4f4f-a3bc-3d1734fc72d0"
      },
      "outputs": [
        {
          "output_type": "stream",
          "name": "stdout",
          "text": [
            "3060/3060 [==============================] - 5s 2ms/step\n",
            "[0 0 0 1 0 0 0 0 0 0 0 0 0 0 0 0 0 0 0 0 0 0 0 0 0 0 0 0 0 0 0 0 1 1 1 1 1\n",
            " 0 1 0 0 1 0 1 1 0 0 0 0 0 1 1 1 1 0 1 1 1 1 0 0 0 1 1]   [0 0 1 0 0 0 0 0 0 0 0 0 0 0 0 0 0 0 0 0 0 0 0 0 0 0 0 0 0 0 0 0]   [0. 0. 1. 0. 0. 0. 0. 0. 0. 0. 0. 0. 0. 0. 0. 0. 0. 0. 0. 0. 0. 0. 0. 0.\n",
            " 0. 0. 0. 0. 0. 0. 0. 0.]\n",
            "\n",
            "\n",
            "[0 0 0 0 0 0 0 0 1 0 0 0 0 0 0 0 0 0 0 0 0 0 0 0 0 0 0 0 0 0 0 0 0 0 0 0 0\n",
            " 0 0 0 1 0 0 1 1 0 0 1 0 0 0 0 0 0 1 1 0 0 0 0 0 1 1 0]   [0 0 0 0 0 0 0 0 0 0 0 0 0 0 0 0 0 0 0 0 0 0 0 0 0 0 0 0 0 0 1 0]   [0. 0. 0. 0. 0. 0. 0. 0. 0. 0. 0. 0. 0. 0. 0. 0. 0. 0. 0. 0. 0. 0. 0. 0.\n",
            " 0. 0. 0. 0. 0. 0. 1. 0.]\n",
            "\n",
            "\n",
            "[0 0 0 0 0 0 0 0 0 0 0 0 0 0 0 0 0 0 0 0 0 0 0 0 0 0 1 0 0 0 0 0 0 0 0 0 0\n",
            " 0 0 0 1 0 0 1 1 0 0 0 1 1 0 1 1 0 0 0 0 0 1 0 0 1 0 0]   [0 0 0 0 0 0 0 0 0 0 0 0 0 0 0 0 0 0 0 0 1 0 0 0 0 0 0 0 0 0 0 0]   [0. 0. 0. 0. 0. 0. 0. 0. 0. 0. 0. 0. 0. 0. 0. 0. 0. 0. 0. 0. 1. 0. 0. 0.\n",
            " 0. 0. 0. 0. 0. 0. 0. 0.]\n",
            "\n",
            "\n",
            "[0 0 0 0 0 0 0 0 0 0 0 0 0 0 0 0 0 0 0 0 0 0 0 0 0 0 0 0 1 0 0 0 1 1 1 1 1\n",
            " 0 1 0 0 1 0 1 1 0 0 0 0 1 0 0 0 1 0 0 0 0 0 1 1 0 0 1]   [0 0 0 0 0 0 0 0 0 0 0 0 0 0 0 0 0 0 0 0 0 0 0 0 0 0 0 1 0 0 0 0]   [0. 0. 0. 0. 0. 0. 0. 0. 0. 0. 0. 0. 0. 0. 0. 0. 0. 0. 0. 0. 0. 0. 0. 0.\n",
            " 0. 0. 0. 1. 0. 0. 0. 0.]\n",
            "\n",
            "\n",
            "[0 0 0 0 0 0 0 0 0 0 0 0 0 0 0 0 0 0 0 0 0 1 0 0 0 0 0 0 0 0 0 0 1 1 1 1 1\n",
            " 0 1 0 0 1 0 1 1 0 0 0 1 1 0 1 1 1 1 0 0 0 0 1 0 0 0 0]   [0 0 0 0 0 0 0 0 0 0 0 0 0 0 0 0 0 0 0 0 1 0 0 0 0 0 0 0 0 0 0 0]   [0. 0. 0. 0. 0. 0. 0. 0. 0. 0. 0. 0. 0. 0. 0. 0. 0. 0. 0. 0. 1. 0. 0. 0.\n",
            " 0. 0. 0. 0. 0. 0. 0. 0.]\n",
            "\n",
            "\n",
            "[0 0 0 0 0 0 0 0 0 0 0 0 0 0 0 0 0 0 0 0 0 0 1 0 0 0 0 0 0 0 0 0 1 1 1 1 1\n",
            " 0 1 0 0 1 0 1 1 0 0 1 1 1 1 1 1 0 1 0 0 1 0 0 1 0 1 1]   [0 0 0 0 0 0 0 0 0 0 0 0 0 0 0 0 0 0 0 0 1 0 0 0 0 0 0 0 0 0 0 0]   [0. 0. 0. 0. 0. 0. 0. 0. 0. 0. 0. 0. 0. 0. 0. 0. 0. 0. 0. 0. 1. 0. 0. 0.\n",
            " 0. 0. 0. 0. 0. 0. 0. 0.]\n",
            "\n",
            "\n",
            "[0 0 0 0 0 0 0 0 0 0 0 0 0 0 0 0 0 0 0 0 0 0 0 0 0 0 0 0 1 0 0 0 0 0 0 0 0\n",
            " 0 0 0 0 0 0 0 1 1 1 1 1 0 1 0 0 0 0 1 0 0 1 0 1 1 1 0]   [0 0 0 0 0 0 0 0 0 0 0 0 0 0 0 0 0 0 0 0 0 0 0 0 0 0 1 0 0 0 0 0]   [0. 0. 0. 0. 0. 0. 0. 0. 0. 0. 0. 0. 0. 0. 0. 0. 0. 0. 0. 0. 0. 0. 0. 0.\n",
            " 0. 0. 1. 0. 0. 0. 0. 0.]\n",
            "\n",
            "\n",
            "[0 0 0 0 0 0 0 0 0 0 0 0 0 0 0 0 0 0 0 0 0 0 0 0 0 0 0 1 0 0 0 0 1 1 1 1 1\n",
            " 0 1 0 0 1 0 1 1 0 0 1 1 0 1 1 1 0 0 1 0 1 0 1 1 1 1 1]   [0 0 0 0 0 0 0 0 0 0 0 0 0 0 0 0 0 0 0 0 0 0 0 0 0 1 0 0 0 0 0 0]   [0. 0. 0. 0. 0. 0. 0. 0. 0. 0. 0. 0. 0. 0. 0. 0. 0. 0. 0. 0. 0. 0. 0. 0.\n",
            " 0. 1. 0. 0. 0. 0. 0. 0.]\n",
            "\n",
            "\n",
            "[0 0 0 0 0 0 0 0 0 0 0 0 0 0 0 0 0 0 0 0 0 0 0 0 1 0 0 0 0 0 0 0 1 1 1 1 1\n",
            " 0 1 0 0 1 0 1 1 0 0 0 1 0 1 0 1 0 1 1 1 1 0 0 0 1 0 1]   [0 0 0 0 0 0 0 0 0 0 0 0 0 0 0 0 0 0 0 0 0 0 0 1 0 0 0 0 0 0 0 0]   [0. 0. 0. 0. 0. 0. 0. 0. 0. 0. 0. 0. 0. 0. 0. 0. 0. 0. 0. 0. 0. 0. 0. 1.\n",
            " 0. 0. 0. 0. 0. 0. 0. 0.]\n",
            "\n",
            "\n",
            "[0 0 0 0 0 0 0 0 0 0 0 0 0 0 0 0 0 0 0 0 0 0 0 0 0 0 0 0 0 0 1 0 0 0 0 0 0\n",
            " 0 0 0 1 0 0 1 1 0 0 1 0 1 0 0 0 0 0 1 0 1 1 1 0 0 1 1]   [0 0 0 0 0 0 0 0 0 0 0 0 0 0 0 0 0 0 0 0 0 0 0 0 0 0 0 1 0 0 0 0]   [0. 0. 0. 0. 0. 0. 0. 0. 0. 0. 0. 0. 0. 0. 0. 0. 0. 0. 0. 0. 0. 0. 0. 0.\n",
            " 0. 0. 0. 1. 0. 0. 0. 0.]\n",
            "\n",
            "\n"
          ]
        }
      ],
      "source": [
        "#Comparing the data and writing into the file ( input_output_predict.txt)\n",
        "y_predict = model.predict(x_test).round()\n",
        "\n",
        "for i in range(10,20):\n",
        "  print(x_test[100+i],\" \",y_test[100+i],\" \",y_predict[100+i])\n",
        "  print(\"\\n\")\n",
        "# f = open(\"input_output_predict.txt\", \"w\")\n",
        "# n = y_test.size\n",
        "# cnt = 0\n",
        "# for i in range(0,n-1):\n",
        "#     # f.write(\"[\")\n",
        "#     # count = 0\n",
        "#     # for x in x_test[i]:\n",
        "#     #     for j in x:\n",
        "#     #       f.write(str(j)+\",\")\n",
        "#     # f.write(\"];\\t\")\n",
        "#     # f.write(\"[\"+str(y_test[i])+\"];\\t\")\n",
        "#     # f.write(\"[\"+str(y_predict[i])+\"];\\t \\n\")\n",
        "#     ok=1\n",
        "#     # print(\"hi\")\n",
        "#     # print(len(y_test[i]))\n",
        "#     for  y,y_ex in zip(y_test[i],y_predict[i]):\n",
        "#       if y!=y_ex:\n",
        "#         ok=0\n",
        "#     cnt+=ok\n",
        "# f.write(\"Number of matches: \"+str(cnt)+\" out of \" + str(n) +\"\\n\")\n",
        "# f.close()\n",
        "# print(\"Number of matches: \"+str(cnt)+\" out of \" + str(n) )\n",
        " "
      ]
    },
    {
      "cell_type": "code",
      "source": [],
      "metadata": {
        "id": "YEo9vneC1RiB"
      },
      "execution_count": null,
      "outputs": []
    }
  ],
  "metadata": {
    "colab": {
      "provenance": [],
      "include_colab_link": true
    },
    "kernelspec": {
      "display_name": "Python 3",
      "name": "python3"
    },
    "language_info": {
      "name": "python"
    },
    "accelerator": "GPU",
    "gpuClass": "standard"
  },
  "nbformat": 4,
  "nbformat_minor": 0
}