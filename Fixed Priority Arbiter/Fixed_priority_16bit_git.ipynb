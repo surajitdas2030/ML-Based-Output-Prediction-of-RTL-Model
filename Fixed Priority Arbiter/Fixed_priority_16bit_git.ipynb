{
  "cells": [
    {
      "cell_type": "markdown",
      "metadata": {
        "id": "view-in-github",
        "colab_type": "text"
      },
      "source": [
        "<a href=\"https://colab.research.google.com/github/surajitdas2030/ML-Based-Output-Prediction-of-RTL-Model/blob/main/Fixed%20Priority%20Arbiter/Fixed_priority_16bit_git.ipynb\" target=\"_parent\"><img src=\"https://colab.research.google.com/assets/colab-badge.svg\" alt=\"Open In Colab\"/></a>"
      ]
    },
    {
      "cell_type": "code",
      "execution_count": 38,
      "metadata": {
        "colab": {
          "base_uri": "https://localhost:8080/"
        },
        "id": "smVZu0ZkDIVL",
        "outputId": "a7ffcb15-80db-4d9c-a1a2-a636535a488f"
      },
      "outputs": [
        {
          "output_type": "stream",
          "name": "stdout",
          "text": [
            "Colab only includes TensorFlow 2.x; %tensorflow_version has no effect.\n"
          ]
        }
      ],
      "source": [
        "# only for Google Colab compatibiity\n",
        "try:\n",
        "  # %tensorflow_version only exists in Colab.\n",
        "  %tensorflow_version 2.x\n",
        "except Exception:\n",
        "  pass"
      ]
    },
    {
      "cell_type": "code",
      "execution_count": 39,
      "metadata": {
        "colab": {
          "base_uri": "https://localhost:8080/"
        },
        "id": "0qfLj-yKG04w",
        "outputId": "1fd272d1-7b05-4e08-a80d-d2af8e149343"
      },
      "outputs": [
        {
          "output_type": "stream",
          "name": "stdout",
          "text": [
            "2.11.0\n"
          ]
        }
      ],
      "source": [
        "import numpy as np\n",
        "import pandas as pd\n",
        "import tensorflow as tf\n",
        "from tensorflow.keras import models, layers, activations\n",
        "import random\n",
        "print(tf.__version__)\n",
        "np.random.seed(0)\n",
        "tf.random.set_seed(0)"
      ]
    },
    {
      "cell_type": "code",
      "execution_count": 40,
      "metadata": {
        "id": "e53-4_dhOvc7"
      },
      "outputs": [],
      "source": [
        "%matplotlib notebook"
      ]
    },
    {
      "cell_type": "code",
      "execution_count": 41,
      "metadata": {
        "id": "5c6XTFaMAf-f"
      },
      "outputs": [],
      "source": [
        "df = pd.read_csv('fread.txt',sep=\" \",header=None)\n",
        "col_str_dic = {column:str for column in list(df)}\n",
        "df = pd.read_csv(\"fread.txt\",sep=\" \",header=None, dtype=col_str_dic)\n",
        "x_gen = df.iloc[:,0]\n",
        "y_gen = df.iloc[:,1]\n",
        "x_samples=[]\n",
        "y_samples=[]\n",
        "for x in x_gen:\n",
        "  temp = list(x)\n",
        "  temp_list=[]\n",
        "  for c in temp:\n",
        "    temp_list.append(int(c))\n",
        "  x_samples.append(temp_list)\n",
        "for y in y_gen:\n",
        "  temp = list(y)\n",
        "  temp_list=[]\n",
        "  for c in temp:\n",
        "    temp_list.append(int(c))\n",
        "  y_samples.append(temp_list)"
      ]
    },
    {
      "cell_type": "markdown",
      "metadata": {
        "id": "xT3ZM-S6Afz0"
      },
      "source": []
    },
    {
      "cell_type": "code",
      "execution_count": 42,
      "metadata": {
        "id": "69M8fzA9Me2k"
      },
      "outputs": [],
      "source": [
        "# #print(\"x_samples = input_values() is called\")\n",
        "# x_samples = input_values()\n",
        "# y_samples = output_values()\n",
        "# #print(\"x_samples = input_values() is over\")"
      ]
    },
    {
      "cell_type": "code",
      "execution_count": 43,
      "metadata": {
        "id": "e9DxNbchB-S6",
        "colab": {
          "base_uri": "https://localhost:8080/"
        },
        "outputId": "fa69fa5d-799a-4546-b7a9-ae263cb579be"
      },
      "outputs": [
        {
          "output_type": "execute_result",
          "data": {
            "text/plain": [
              "65536"
            ]
          },
          "metadata": {},
          "execution_count": 43
        }
      ],
      "source": [
        "len(y_samples)"
      ]
    },
    {
      "cell_type": "code",
      "execution_count": 44,
      "metadata": {
        "id": "_cDMI7Y0G6U_",
        "colab": {
          "base_uri": "https://localhost:8080/"
        },
        "outputId": "d02de49c-2fd6-45ca-9857-be60538a89d3"
      },
      "outputs": [
        {
          "output_type": "stream",
          "name": "stdout",
          "text": [
            "[[0 0 0 ... 0 0 0]\n",
            " [0 0 0 ... 0 0 1]\n",
            " [0 0 0 ... 0 1 0]\n",
            " ...\n",
            " [1 1 1 ... 1 0 1]\n",
            " [1 1 1 ... 1 1 0]\n",
            " [1 1 1 ... 1 1 1]]\n",
            "[[0 0 0 ... 0 0 0]\n",
            " [0 0 0 ... 0 0 1]\n",
            " [0 0 0 ... 0 1 0]\n",
            " ...\n",
            " [0 0 0 ... 0 0 1]\n",
            " [0 0 0 ... 0 1 0]\n",
            " [0 0 0 ... 0 0 1]]\n"
          ]
        }
      ],
      "source": [
        "x = np.array(x_samples) # 16 inputs\n",
        "print(x)\n",
        "y = np.array(y_samples) # 16 ootput\n",
        "print(y)"
      ]
    },
    {
      "cell_type": "code",
      "execution_count": 45,
      "metadata": {
        "id": "4yvp6BOQRoGP"
      },
      "outputs": [],
      "source": [
        "from sklearn.model_selection import train_test_split\n",
        "x_train, x_test, y_train, y_test = train_test_split(x, y, test_size=0.3, shuffle=True)\n",
        "#x_train, x_test, y_train, y_test = train_test_split(x_samples, y_samples, test_size=0.3, shuffle=True)"
      ]
    },
    {
      "cell_type": "code",
      "execution_count": 46,
      "metadata": {
        "id": "ArLM-bGjP34l",
        "colab": {
          "base_uri": "https://localhost:8080/"
        },
        "outputId": "29a00ffb-bd51-4caf-f99d-de348fccfb4e"
      },
      "outputs": [
        {
          "output_type": "stream",
          "name": "stdout",
          "text": [
            "Model: \"sequential_3\"\n",
            "_________________________________________________________________\n",
            " Layer (type)                Output Shape              Param #   \n",
            "=================================================================\n",
            " dense_18 (Dense)            (None, 16)                272       \n",
            "                                                                 \n",
            " dense_19 (Dense)            (None, 16)                272       \n",
            "                                                                 \n",
            " dense_20 (Dense)            (None, 16)                272       \n",
            "                                                                 \n",
            " dense_21 (Dense)            (None, 16)                272       \n",
            "                                                                 \n",
            " dense_22 (Dense)            (None, 16)                272       \n",
            "                                                                 \n",
            " dense_23 (Dense)            (None, 16)                272       \n",
            "                                                                 \n",
            "=================================================================\n",
            "Total params: 1,632\n",
            "Trainable params: 1,632\n",
            "Non-trainable params: 0\n",
            "_________________________________________________________________\n"
          ]
        }
      ],
      "source": [
        "#ANN1\n",
        "#model = models.Sequential(name='Parity_checker')\n",
        "#model.add(layers.Input(shape=(32,), name='input'))\n",
        "#model.add(layers.Dense(units=32,activation=activations.relu, name='hidden1'))\n",
        "## model.add(layers.Dense(units=3, activation=activations.sigmoid, name='hidden2'))\n",
        "#model.add(layers.Dense(units=1, activation=activations.sigmoid, name='output'))\n",
        "\n",
        "#add the layers\n",
        "#ANN2:0.99 accuracy\n",
        "# model = tf.keras.models.Sequential()\n",
        "# model.add(tf.keras.layers.Dense(64, input_dim=32, activation='relu'))\n",
        "# model.add(tf.keras.layers.Dense(32, activation='relu'))\n",
        "# model.add(tf.keras.layers.Dense(1, activation='sigmoid'))\n",
        "\n",
        "# ANN3:0.99 accuracy\n",
        "model = tf.keras.models.Sequential()\n",
        "model.add(tf.keras.layers.Dense(16, input_dim=16, activation='relu'))\n",
        "model.add(tf.keras.layers.Dense(16, activation='relu'))\n",
        "model.add(tf.keras.layers.Dense(16, activation='relu'))\n",
        "model.add(tf.keras.layers.Dense(16, activation='relu'))\n",
        "model.add(tf.keras.layers.Dense(16, activation='relu'))\n",
        "model.add(tf.keras.layers.Dense(16, activation='sigmoid'))\n",
        "\n",
        "# model = tf.keras.models.Sequential()\n",
        "# model.add(tf.keras.layers.Dense(32, input_dim=16, activation='relu'))\n",
        "# # model.add(tf.keras.layers.Dense(32, activation='relu'))\n",
        "# model.add(tf.keras.layers.Dense(16, activation='relu'))\n",
        "# model.add(tf.keras.layers.Dense(8, activation='relu'))\n",
        "# model.add(tf.keras.layers.Dense(4, activation='relu'))\n",
        "# model.add(tf.keras.layers.Dense(2, activation='relu'))\n",
        "# model.add(tf.keras.layers.Dense(16, activation='sigmoid'))\n",
        "\n",
        "model.summary()"
      ]
    },
    {
      "cell_type": "code",
      "execution_count": 47,
      "metadata": {
        "id": "x23CuX8Kk8b6"
      },
      "outputs": [],
      "source": [
        "#model.compile(loss='binary_crossentropy', optimizer='adam',metrics=['accuracy'])\n",
        "model.compile(loss='mse', optimizer='adam',metrics=['accuracy'])"
      ]
    },
    {
      "cell_type": "markdown",
      "metadata": {
        "id": "pDYql-F7YGYA"
      },
      "source": [
        "Comparing the data and writing into the file ( **input_output_predict.txt**)\n",
        "\n",
        "Here the\n",
        "*  **x_text** is the input sample data\n",
        "*  **y_text** is the expected output data\n",
        "*  **y_predict** is predicted output data\n"
      ]
    },
    {
      "cell_type": "code",
      "execution_count": 48,
      "metadata": {
        "id": "F2j6Ej2ClAiZ",
        "colab": {
          "base_uri": "https://localhost:8080/"
        },
        "outputId": "c62c6f1c-d14b-414c-cf4a-3269d363323c"
      },
      "outputs": [
        {
          "output_type": "stream",
          "name": "stdout",
          "text": [
            "Epoch 1/50\n",
            "1434/1434 [==============================] - 8s 4ms/step - loss: 0.0232 - accuracy: 0.7984\n",
            "Epoch 2/50\n",
            "1434/1434 [==============================] - 5s 3ms/step - loss: 0.0020 - accuracy: 0.9696\n",
            "Epoch 3/50\n",
            "1434/1434 [==============================] - 6s 4ms/step - loss: 0.0019 - accuracy: 0.9696\n",
            "Epoch 4/50\n",
            "1434/1434 [==============================] - 5s 4ms/step - loss: 0.0019 - accuracy: 0.9696\n",
            "Epoch 5/50\n",
            "1434/1434 [==============================] - 5s 3ms/step - loss: 0.0019 - accuracy: 0.9696\n",
            "Epoch 6/50\n",
            "1434/1434 [==============================] - 6s 4ms/step - loss: 0.0020 - accuracy: 0.9698\n",
            "Epoch 7/50\n",
            "1434/1434 [==============================] - 5s 4ms/step - loss: 0.0017 - accuracy: 0.9773\n",
            "Epoch 8/50\n",
            "1434/1434 [==============================] - 6s 4ms/step - loss: 0.0014 - accuracy: 0.9773\n",
            "Epoch 9/50\n",
            "1434/1434 [==============================] - 5s 4ms/step - loss: 0.0015 - accuracy: 0.9775\n",
            "Epoch 10/50\n",
            "1434/1434 [==============================] - 6s 4ms/step - loss: 0.0014 - accuracy: 0.9788\n",
            "Epoch 11/50\n",
            "1434/1434 [==============================] - 5s 3ms/step - loss: 0.0014 - accuracy: 0.9791\n",
            "Epoch 12/50\n",
            "1434/1434 [==============================] - 5s 4ms/step - loss: 0.0014 - accuracy: 0.9792\n",
            "Epoch 13/50\n",
            "1434/1434 [==============================] - 6s 4ms/step - loss: 0.0012 - accuracy: 0.9845\n",
            "Epoch 14/50\n",
            "1434/1434 [==============================] - 5s 3ms/step - loss: 4.1607e-04 - accuracy: 0.9942\n",
            "Epoch 15/50\n",
            "1434/1434 [==============================] - 6s 4ms/step - loss: 3.7076e-04 - accuracy: 0.9943\n",
            "Epoch 16/50\n",
            "1434/1434 [==============================] - 5s 3ms/step - loss: 4.0901e-04 - accuracy: 0.9942\n",
            "Epoch 17/50\n",
            "1434/1434 [==============================] - 6s 4ms/step - loss: 3.5871e-04 - accuracy: 0.9947\n",
            "Epoch 18/50\n",
            "1434/1434 [==============================] - 5s 3ms/step - loss: 3.6352e-04 - accuracy: 0.9947\n",
            "Epoch 19/50\n",
            "1434/1434 [==============================] - 5s 4ms/step - loss: 3.5475e-04 - accuracy: 0.9947\n",
            "Epoch 20/50\n",
            "1434/1434 [==============================] - 5s 4ms/step - loss: 3.9003e-04 - accuracy: 0.9945\n",
            "Epoch 21/50\n",
            "1434/1434 [==============================] - 5s 3ms/step - loss: 3.4071e-04 - accuracy: 0.9948\n",
            "Epoch 22/50\n",
            "1434/1434 [==============================] - 6s 4ms/step - loss: 3.7543e-04 - accuracy: 0.9946\n",
            "Epoch 23/50\n",
            "1434/1434 [==============================] - 5s 4ms/step - loss: 3.4376e-04 - accuracy: 0.9949\n",
            "Epoch 24/50\n",
            "1434/1434 [==============================] - 6s 4ms/step - loss: 3.3109e-04 - accuracy: 0.9949\n",
            "Epoch 25/50\n",
            "1434/1434 [==============================] - 5s 3ms/step - loss: 3.4163e-04 - accuracy: 0.9948\n",
            "Epoch 26/50\n",
            "1434/1434 [==============================] - 6s 4ms/step - loss: 3.7685e-04 - accuracy: 0.9944\n",
            "Epoch 27/50\n",
            "1434/1434 [==============================] - 5s 3ms/step - loss: 3.5750e-04 - accuracy: 0.9947\n",
            "Epoch 28/50\n",
            "1434/1434 [==============================] - 5s 4ms/step - loss: 3.2885e-04 - accuracy: 0.9949\n",
            "Epoch 29/50\n",
            "1434/1434 [==============================] - 6s 4ms/step - loss: 3.4913e-04 - accuracy: 0.9948\n",
            "Epoch 30/50\n",
            "1434/1434 [==============================] - 5s 3ms/step - loss: 3.3243e-04 - accuracy: 0.9949\n",
            "Epoch 31/50\n",
            "1434/1434 [==============================] - 6s 4ms/step - loss: 3.4103e-04 - accuracy: 0.9949\n",
            "Epoch 32/50\n",
            "1434/1434 [==============================] - 5s 3ms/step - loss: 3.5135e-04 - accuracy: 0.9949\n",
            "Epoch 33/50\n",
            "1434/1434 [==============================] - 6s 4ms/step - loss: 3.3742e-04 - accuracy: 0.9949\n",
            "Epoch 34/50\n",
            "1434/1434 [==============================] - 5s 3ms/step - loss: 3.3535e-04 - accuracy: 0.9949\n",
            "Epoch 35/50\n",
            "1434/1434 [==============================] - 5s 4ms/step - loss: 3.5018e-04 - accuracy: 0.9947\n",
            "Epoch 36/50\n",
            "1434/1434 [==============================] - 5s 4ms/step - loss: 3.4320e-04 - accuracy: 0.9948\n",
            "Epoch 37/50\n",
            "1434/1434 [==============================] - 5s 3ms/step - loss: 3.2987e-04 - accuracy: 0.9950\n",
            "Epoch 38/50\n",
            "1434/1434 [==============================] - 6s 4ms/step - loss: 3.3500e-04 - accuracy: 0.9949\n",
            "Epoch 39/50\n",
            "1434/1434 [==============================] - 5s 3ms/step - loss: 3.4473e-04 - accuracy: 0.9950\n",
            "Epoch 40/50\n",
            "1434/1434 [==============================] - 6s 4ms/step - loss: 3.2130e-04 - accuracy: 0.9950\n",
            "Epoch 41/50\n",
            "1434/1434 [==============================] - 5s 3ms/step - loss: 3.1730e-04 - accuracy: 0.9950\n",
            "Epoch 42/50\n",
            "1434/1434 [==============================] - 6s 4ms/step - loss: 3.4455e-04 - accuracy: 0.9948\n",
            "Epoch 43/50\n",
            "1434/1434 [==============================] - 5s 4ms/step - loss: 3.3177e-04 - accuracy: 0.9949\n",
            "Epoch 44/50\n",
            "1434/1434 [==============================] - 5s 3ms/step - loss: 3.1573e-04 - accuracy: 0.9950\n",
            "Epoch 45/50\n",
            "1434/1434 [==============================] - 6s 4ms/step - loss: 3.1286e-04 - accuracy: 0.9950\n",
            "Epoch 46/50\n",
            "1434/1434 [==============================] - 5s 4ms/step - loss: 3.4166e-04 - accuracy: 0.9949\n",
            "Epoch 47/50\n",
            "1434/1434 [==============================] - 6s 4ms/step - loss: 3.2212e-04 - accuracy: 0.9950\n",
            "Epoch 48/50\n",
            "1434/1434 [==============================] - 5s 4ms/step - loss: 3.2131e-04 - accuracy: 0.9950\n",
            "Epoch 49/50\n",
            "1434/1434 [==============================] - 6s 4ms/step - loss: 3.3752e-04 - accuracy: 0.9949\n",
            "Epoch 50/50\n",
            "1434/1434 [==============================] - 5s 3ms/step - loss: 3.3282e-04 - accuracy: 0.9950\n",
            "615/615 - 1s - loss: 3.6583e-04 - accuracy: 0.9948 - 1s/epoch - 2ms/step\n"
          ]
        }
      ],
      "source": [
        "model.fit(x_train, y_train, epochs=50)\n",
        "score = model.evaluate(x_test, y_test, verbose=2)"
      ]
    },
    {
      "cell_type": "code",
      "execution_count": 49,
      "metadata": {
        "id": "lznry1JxVlab",
        "colab": {
          "base_uri": "https://localhost:8080/"
        },
        "outputId": "6c090bfb-dea5-4cb2-c358-ab1dffa35db5"
      },
      "outputs": [
        {
          "output_type": "stream",
          "name": "stdout",
          "text": [
            "615/615 [==============================] - 1s 1ms/step\n",
            "[0 1 1 1 1 1 1 0 0 1 0 1 1 0 0 0]   [0 0 0 0 0 0 0 0 0 0 0 0 1 0 0 0]   [0. 0. 0. 0. 0. 0. 0. 0. 0. 0. 0. 0. 1. 0. 0. 0.]\n"
          ]
        }
      ],
      "source": [
        "#Comparing the data and writing into the file ( input_output_predict.txt)\n",
        "y_predict = model.predict(x_test).round()\n",
        "\n",
        "print(x_test[100],\" \",y_test[100],\" \",y_predict[100]) "
      ]
    }
  ],
  "metadata": {
    "colab": {
      "provenance": [],
      "include_colab_link": true
    },
    "kernelspec": {
      "display_name": "Python 3",
      "name": "python3"
    },
    "language_info": {
      "name": "python"
    },
    "accelerator": "GPU",
    "gpuClass": "standard"
  },
  "nbformat": 4,
  "nbformat_minor": 0
}