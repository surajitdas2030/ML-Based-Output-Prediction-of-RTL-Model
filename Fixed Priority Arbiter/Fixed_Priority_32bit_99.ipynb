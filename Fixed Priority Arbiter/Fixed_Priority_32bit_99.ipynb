{
  "cells": [
    {
      "cell_type": "markdown",
      "metadata": {
        "id": "view-in-github",
        "colab_type": "text"
      },
      "source": [
        "<a href=\"https://colab.research.google.com/github/surajitdas2030/ML-Based-Output-Prediction-of-RTL-Model/blob/main/Fixed%20Priority%20Arbiter/Fixed_Priority_32bit_99.ipynb\" target=\"_parent\"><img src=\"https://colab.research.google.com/assets/colab-badge.svg\" alt=\"Open In Colab\"/></a>"
      ]
    },
    {
      "cell_type": "code",
      "execution_count": null,
      "metadata": {
        "colab": {
          "base_uri": "https://localhost:8080/"
        },
        "id": "smVZu0ZkDIVL",
        "outputId": "bdf8468c-4dea-426f-d3ff-087c68c73aaf"
      },
      "outputs": [
        {
          "output_type": "stream",
          "name": "stdout",
          "text": [
            "Colab only includes TensorFlow 2.x; %tensorflow_version has no effect.\n"
          ]
        }
      ],
      "source": [
        "# only for Google Colab compatibiity\n",
        "try:\n",
        "  # %tensorflow_version only exists in Colab.\n",
        "  %tensorflow_version 2.x\n",
        "except Exception:\n",
        "  pass"
      ]
    },
    {
      "cell_type": "code",
      "execution_count": null,
      "metadata": {
        "colab": {
          "base_uri": "https://localhost:8080/"
        },
        "id": "0qfLj-yKG04w",
        "outputId": "d95fbdf9-48fb-42c7-dafa-5a7450733385"
      },
      "outputs": [
        {
          "output_type": "stream",
          "name": "stdout",
          "text": [
            "2.9.2\n"
          ]
        }
      ],
      "source": [
        "import numpy as np\n",
        "import pandas as pd\n",
        "import tensorflow as tf\n",
        "from tensorflow.keras import models, layers, activations\n",
        "import random\n",
        "print(tf.__version__)\n",
        "np.random.seed(0)\n",
        "tf.random.set_seed(0)"
      ]
    },
    {
      "cell_type": "code",
      "execution_count": null,
      "metadata": {
        "id": "e53-4_dhOvc7"
      },
      "outputs": [],
      "source": [
        "%matplotlib notebook"
      ]
    },
    {
      "cell_type": "code",
      "execution_count": null,
      "metadata": {
        "id": "5c6XTFaMAf-f"
      },
      "outputs": [],
      "source": [
        "df = pd.read_csv('fixed_pr_32_50k.txt',sep=\" \",header=None)\n",
        "col_str_dic = {column:str for column in list(df)}\n",
        "df = pd.read_csv(\"fixed_pr_32_50k.txt\",sep=\" \",header=None, dtype=col_str_dic)\n",
        "x_gen = df.iloc[:,0]\n",
        "y_gen = df.iloc[:,1]\n",
        "x_samples=[]\n",
        "y_samples=[]\n",
        "for x in x_gen:\n",
        "  temp = list(x)\n",
        "  temp_list=[]\n",
        "  for c in temp:\n",
        "    temp_list.append(int(c))\n",
        "  x_samples.append(temp_list)\n",
        "for y in y_gen:\n",
        "  temp = list(y)\n",
        "  temp_list=[]\n",
        "  for c in temp:\n",
        "    temp_list.append(int(c))\n",
        "  y_samples.append(temp_list)"
      ]
    },
    {
      "cell_type": "markdown",
      "metadata": {
        "id": "xT3ZM-S6Afz0"
      },
      "source": []
    },
    {
      "cell_type": "code",
      "execution_count": null,
      "metadata": {
        "id": "69M8fzA9Me2k"
      },
      "outputs": [],
      "source": [
        "# #print(\"x_samples = input_values() is called\")\n",
        "# x_samples = input_values()\n",
        "# y_samples = output_values()\n",
        "# #print(\"x_samples = input_values() is over\")"
      ]
    },
    {
      "cell_type": "code",
      "execution_count": null,
      "metadata": {
        "id": "e9DxNbchB-S6",
        "colab": {
          "base_uri": "https://localhost:8080/"
        },
        "outputId": "50448b23-f77e-40cb-b2c2-a555977a95fe"
      },
      "outputs": [
        {
          "output_type": "execute_result",
          "data": {
            "text/plain": [
              "64866"
            ]
          },
          "metadata": {},
          "execution_count": 6
        }
      ],
      "source": [
        "len(y_samples)"
      ]
    },
    {
      "cell_type": "code",
      "execution_count": null,
      "metadata": {
        "id": "_cDMI7Y0G6U_",
        "colab": {
          "base_uri": "https://localhost:8080/"
        },
        "outputId": "be662257-83b2-4126-f27e-cf3fc559ddd8"
      },
      "outputs": [
        {
          "output_type": "stream",
          "name": "stdout",
          "text": [
            "[[0 0 0 ... 0 0 0]\n",
            " [0 0 0 ... 0 0 1]\n",
            " [0 0 0 ... 0 1 0]\n",
            " ...\n",
            " [0 0 0 ... 1 1 1]\n",
            " [0 0 0 ... 0 0 0]\n",
            " [0 0 0 ... 0 0 1]]\n",
            "[[0 0 0 ... 0 0 0]\n",
            " [0 0 0 ... 0 0 1]\n",
            " [0 0 0 ... 0 1 0]\n",
            " ...\n",
            " [0 0 0 ... 0 0 1]\n",
            " [0 0 0 ... 0 0 0]\n",
            " [0 0 0 ... 0 0 1]]\n"
          ]
        }
      ],
      "source": [
        "x = np.array(x_samples) # 16 inputs\n",
        "print(x)\n",
        "y = np.array(y_samples) # 16 ootput\n",
        "print(y)"
      ]
    },
    {
      "cell_type": "code",
      "execution_count": null,
      "metadata": {
        "id": "4yvp6BOQRoGP"
      },
      "outputs": [],
      "source": [
        "from sklearn.model_selection import train_test_split\n",
        "x_train, x_test, y_train, y_test = train_test_split(x, y, test_size=0.3, shuffle=True)\n",
        "#x_train, x_test, y_train, y_test = train_test_split(x_samples, y_samples, test_size=0.3, shuffle=True)"
      ]
    },
    {
      "cell_type": "code",
      "execution_count": null,
      "metadata": {
        "id": "ArLM-bGjP34l",
        "colab": {
          "base_uri": "https://localhost:8080/"
        },
        "outputId": "d05c214e-a91a-40dc-ccff-5970e76fab9f"
      },
      "outputs": [
        {
          "output_type": "stream",
          "name": "stdout",
          "text": [
            "Model: \"sequential\"\n",
            "_________________________________________________________________\n",
            " Layer (type)                Output Shape              Param #   \n",
            "=================================================================\n",
            " dense (Dense)               (None, 32)                1056      \n",
            "                                                                 \n",
            " dense_1 (Dense)             (None, 32)                1056      \n",
            "                                                                 \n",
            " dense_2 (Dense)             (None, 32)                1056      \n",
            "                                                                 \n",
            " dense_3 (Dense)             (None, 32)                1056      \n",
            "                                                                 \n",
            " dense_4 (Dense)             (None, 32)                1056      \n",
            "                                                                 \n",
            " dense_5 (Dense)             (None, 32)                1056      \n",
            "                                                                 \n",
            "=================================================================\n",
            "Total params: 6,336\n",
            "Trainable params: 6,336\n",
            "Non-trainable params: 0\n",
            "_________________________________________________________________\n"
          ]
        }
      ],
      "source": [
        "#ANN1\n",
        "#model = models.Sequential(name='Parity_checker')\n",
        "#model.add(layers.Input(shape=(32,), name='input'))\n",
        "#model.add(layers.Dense(units=32,activation=activations.relu, name='hidden1'))\n",
        "## model.add(layers.Dense(units=3, activation=activations.sigmoid, name='hidden2'))\n",
        "#model.add(layers.Dense(units=1, activation=activations.sigmoid, name='output'))\n",
        "\n",
        "#add the layers\n",
        "#ANN2:0.99 accuracy\n",
        "# model = tf.keras.models.Sequential()\n",
        "# model.add(tf.keras.layers.Dense(64, input_dim=32, activation='relu'))\n",
        "# model.add(tf.keras.layers.Dense(32, activation='relu'))\n",
        "# model.add(tf.keras.layers.Dense(1, activation='sigmoid'))\n",
        "\n",
        "# ANN3:0.99 accuracy\n",
        "model = tf.keras.models.Sequential()\n",
        "model.add(tf.keras.layers.Dense(32, input_dim=32, activation='relu'))\n",
        "model.add(tf.keras.layers.Dense(32, activation='relu'))\n",
        "model.add(tf.keras.layers.Dense(32, activation='relu'))\n",
        "model.add(tf.keras.layers.Dense(32, activation='relu'))\n",
        "model.add(tf.keras.layers.Dense(32, activation='relu'))\n",
        "model.add(tf.keras.layers.Dense(32, activation='sigmoid'))\n",
        "\n",
        "# model = tf.keras.models.Sequential()\n",
        "# model.add(tf.keras.layers.Dense(32, input_dim=16, activation='relu'))\n",
        "# # model.add(tf.keras.layers.Dense(32, activation='relu'))\n",
        "# model.add(tf.keras.layers.Dense(16, activation='relu'))\n",
        "# model.add(tf.keras.layers.Dense(8, activation='relu'))\n",
        "# model.add(tf.keras.layers.Dense(4, activation='relu'))\n",
        "# model.add(tf.keras.layers.Dense(2, activation='relu'))\n",
        "# model.add(tf.keras.layers.Dense(16, activation='sigmoid'))\n",
        "\n",
        "model.summary()"
      ]
    },
    {
      "cell_type": "code",
      "execution_count": null,
      "metadata": {
        "id": "x23CuX8Kk8b6"
      },
      "outputs": [],
      "source": [
        "#model.compile(loss='binary_crossentropy', optimizer='adam',metrics=['accuracy'])\n",
        "model.compile(loss='mse', optimizer='adam',metrics=['accuracy'])"
      ]
    },
    {
      "cell_type": "markdown",
      "metadata": {
        "id": "pDYql-F7YGYA"
      },
      "source": [
        "Comparing the data and writing into the file ( **input_output_predict.txt**)\n",
        "\n",
        "Here the\n",
        "*  **x_text** is the input sample data\n",
        "*  **y_text** is the expected output data\n",
        "*  **y_predict** is predicted output data\n"
      ]
    },
    {
      "cell_type": "code",
      "execution_count": null,
      "metadata": {
        "id": "F2j6Ej2ClAiZ",
        "colab": {
          "base_uri": "https://localhost:8080/"
        },
        "outputId": "d6623ef9-d7fb-4738-8ef0-90d22ae85455"
      },
      "outputs": [
        {
          "output_type": "stream",
          "name": "stdout",
          "text": [
            "Epoch 1/100\n",
            "1419/1419 [==============================] - 5s 3ms/step - loss: 0.0126 - accuracy: 0.8056\n",
            "Epoch 2/100\n",
            "1419/1419 [==============================] - 4s 3ms/step - loss: 0.0020 - accuracy: 0.9416\n",
            "Epoch 3/100\n",
            "1419/1419 [==============================] - 4s 3ms/step - loss: 2.6433e-04 - accuracy: 0.9924\n",
            "Epoch 4/100\n",
            "1419/1419 [==============================] - 4s 3ms/step - loss: 2.7803e-04 - accuracy: 0.9934\n",
            "Epoch 5/100\n",
            "1419/1419 [==============================] - 4s 3ms/step - loss: 1.4138e-04 - accuracy: 0.9969\n",
            "Epoch 6/100\n",
            "1419/1419 [==============================] - 4s 3ms/step - loss: 1.0757e-04 - accuracy: 0.9977\n",
            "Epoch 7/100\n",
            "1419/1419 [==============================] - 4s 3ms/step - loss: 8.3070e-05 - accuracy: 0.9983\n",
            "Epoch 8/100\n",
            "1419/1419 [==============================] - 4s 3ms/step - loss: 7.5356e-05 - accuracy: 0.9985\n",
            "Epoch 9/100\n",
            "1419/1419 [==============================] - 4s 3ms/step - loss: 5.0594e-05 - accuracy: 0.9988\n",
            "Epoch 10/100\n",
            "1419/1419 [==============================] - 4s 3ms/step - loss: 3.4155e-05 - accuracy: 0.9990\n",
            "Epoch 11/100\n",
            "1419/1419 [==============================] - 4s 3ms/step - loss: 3.3669e-05 - accuracy: 0.9990\n",
            "Epoch 12/100\n",
            "1419/1419 [==============================] - 4s 3ms/step - loss: 8.2408e-05 - accuracy: 0.9984\n",
            "Epoch 13/100\n",
            "1419/1419 [==============================] - 4s 3ms/step - loss: 3.3690e-05 - accuracy: 0.9991\n",
            "Epoch 14/100\n",
            "1419/1419 [==============================] - 4s 3ms/step - loss: 4.5528e-05 - accuracy: 0.9989\n",
            "Epoch 15/100\n",
            "1419/1419 [==============================] - 4s 3ms/step - loss: 3.2629e-05 - accuracy: 0.9991\n",
            "Epoch 16/100\n",
            "1419/1419 [==============================] - 4s 3ms/step - loss: 4.6714e-05 - accuracy: 0.9991\n",
            "Epoch 17/100\n",
            "1419/1419 [==============================] - 4s 3ms/step - loss: 2.9146e-05 - accuracy: 0.9994\n",
            "Epoch 18/100\n",
            "1419/1419 [==============================] - 4s 3ms/step - loss: 2.3529e-05 - accuracy: 0.9995\n",
            "Epoch 19/100\n",
            "1419/1419 [==============================] - 4s 3ms/step - loss: 1.4784e-05 - accuracy: 0.9996\n",
            "Epoch 20/100\n",
            "1419/1419 [==============================] - 4s 3ms/step - loss: 3.2599e-05 - accuracy: 0.9994\n",
            "Epoch 21/100\n",
            "1419/1419 [==============================] - 4s 3ms/step - loss: 1.8529e-05 - accuracy: 0.9996\n",
            "Epoch 22/100\n",
            "1419/1419 [==============================] - 4s 3ms/step - loss: 1.0583e-05 - accuracy: 0.9997\n",
            "Epoch 23/100\n",
            "1419/1419 [==============================] - 4s 3ms/step - loss: 1.9751e-05 - accuracy: 0.9996\n",
            "Epoch 24/100\n",
            "1419/1419 [==============================] - 4s 3ms/step - loss: 2.1218e-05 - accuracy: 0.9995\n",
            "Epoch 25/100\n",
            "1419/1419 [==============================] - 4s 3ms/step - loss: 1.1958e-05 - accuracy: 0.9997\n",
            "Epoch 26/100\n",
            "1419/1419 [==============================] - 4s 3ms/step - loss: 1.7253e-05 - accuracy: 0.9996\n",
            "Epoch 27/100\n",
            "1419/1419 [==============================] - 4s 3ms/step - loss: 1.1055e-05 - accuracy: 0.9998\n",
            "Epoch 28/100\n",
            "1419/1419 [==============================] - 4s 3ms/step - loss: 8.1099e-06 - accuracy: 0.9998\n",
            "Epoch 29/100\n",
            "1419/1419 [==============================] - 4s 3ms/step - loss: 1.7932e-05 - accuracy: 0.9996\n",
            "Epoch 30/100\n",
            "1419/1419 [==============================] - 4s 3ms/step - loss: 6.8643e-06 - accuracy: 0.9999\n",
            "Epoch 31/100\n",
            "1419/1419 [==============================] - 4s 3ms/step - loss: 8.0252e-06 - accuracy: 0.9998\n",
            "Epoch 32/100\n",
            "1419/1419 [==============================] - 4s 3ms/step - loss: 7.3471e-06 - accuracy: 0.9998\n",
            "Epoch 33/100\n",
            "1419/1419 [==============================] - 4s 3ms/step - loss: 1.6472e-05 - accuracy: 0.9997\n",
            "Epoch 34/100\n",
            "1419/1419 [==============================] - 4s 3ms/step - loss: 4.7803e-06 - accuracy: 0.9999\n",
            "Epoch 35/100\n",
            "1419/1419 [==============================] - 4s 3ms/step - loss: 9.2688e-06 - accuracy: 0.9998\n",
            "Epoch 36/100\n",
            "1419/1419 [==============================] - 6s 4ms/step - loss: 5.0144e-06 - accuracy: 0.9999\n",
            "Epoch 37/100\n",
            "1419/1419 [==============================] - 5s 3ms/step - loss: 1.2434e-05 - accuracy: 0.9997\n",
            "Epoch 38/100\n",
            "1419/1419 [==============================] - 4s 3ms/step - loss: 7.0022e-06 - accuracy: 0.9999\n",
            "Epoch 39/100\n",
            "1419/1419 [==============================] - 4s 3ms/step - loss: 1.1809e-05 - accuracy: 0.9997\n",
            "Epoch 40/100\n",
            "1419/1419 [==============================] - 4s 3ms/step - loss: 4.8470e-06 - accuracy: 0.9999\n",
            "Epoch 41/100\n",
            "1419/1419 [==============================] - 4s 3ms/step - loss: 3.6380e-06 - accuracy: 0.9999\n",
            "Epoch 42/100\n",
            "1419/1419 [==============================] - 4s 3ms/step - loss: 4.1543e-06 - accuracy: 0.9999\n",
            "Epoch 43/100\n",
            "1419/1419 [==============================] - 4s 3ms/step - loss: 8.5914e-06 - accuracy: 0.9998\n",
            "Epoch 44/100\n",
            "1419/1419 [==============================] - 4s 3ms/step - loss: 2.4818e-06 - accuracy: 0.9999\n",
            "Epoch 45/100\n",
            "1419/1419 [==============================] - 4s 3ms/step - loss: 4.3285e-06 - accuracy: 0.9999\n",
            "Epoch 46/100\n",
            "1419/1419 [==============================] - 4s 3ms/step - loss: 2.9788e-06 - accuracy: 0.9999\n",
            "Epoch 47/100\n",
            "1419/1419 [==============================] - 4s 3ms/step - loss: 7.0374e-06 - accuracy: 0.9999\n",
            "Epoch 48/100\n",
            "1419/1419 [==============================] - 4s 3ms/step - loss: 1.0661e-05 - accuracy: 0.9998\n",
            "Epoch 49/100\n",
            "1419/1419 [==============================] - 4s 3ms/step - loss: 3.8638e-06 - accuracy: 0.9999\n",
            "Epoch 50/100\n",
            "1419/1419 [==============================] - 4s 3ms/step - loss: 2.8102e-06 - accuracy: 0.9999\n",
            "Epoch 51/100\n",
            "1419/1419 [==============================] - 4s 3ms/step - loss: 3.1593e-06 - accuracy: 0.9999\n",
            "Epoch 52/100\n",
            "1419/1419 [==============================] - 4s 3ms/step - loss: 2.8942e-06 - accuracy: 0.9999\n",
            "Epoch 53/100\n",
            "1419/1419 [==============================] - 4s 3ms/step - loss: 3.7833e-06 - accuracy: 1.0000\n",
            "Epoch 54/100\n",
            "1419/1419 [==============================] - 4s 3ms/step - loss: 2.1648e-06 - accuracy: 1.0000\n",
            "Epoch 55/100\n",
            "1419/1419 [==============================] - 4s 3ms/step - loss: 7.2720e-06 - accuracy: 0.9999\n",
            "Epoch 56/100\n",
            "1419/1419 [==============================] - 4s 3ms/step - loss: 1.9000e-06 - accuracy: 1.0000\n",
            "Epoch 57/100\n",
            "1419/1419 [==============================] - 4s 3ms/step - loss: 6.2082e-06 - accuracy: 0.9999\n",
            "Epoch 58/100\n",
            "1419/1419 [==============================] - 4s 3ms/step - loss: 7.1924e-07 - accuracy: 1.0000\n",
            "Epoch 59/100\n",
            "1419/1419 [==============================] - 4s 3ms/step - loss: 5.0933e-06 - accuracy: 0.9999\n",
            "Epoch 60/100\n",
            "1419/1419 [==============================] - 4s 3ms/step - loss: 2.3802e-06 - accuracy: 0.9999\n",
            "Epoch 61/100\n",
            "1419/1419 [==============================] - 4s 3ms/step - loss: 2.2232e-06 - accuracy: 1.0000\n",
            "Epoch 62/100\n",
            "1419/1419 [==============================] - 4s 3ms/step - loss: 1.1344e-06 - accuracy: 1.0000\n",
            "Epoch 63/100\n",
            "1419/1419 [==============================] - 4s 3ms/step - loss: 1.8971e-06 - accuracy: 1.0000\n",
            "Epoch 64/100\n",
            "1419/1419 [==============================] - 4s 3ms/step - loss: 3.4607e-06 - accuracy: 0.9999\n",
            "Epoch 65/100\n",
            "1419/1419 [==============================] - 4s 3ms/step - loss: 6.1699e-06 - accuracy: 0.9999\n",
            "Epoch 66/100\n",
            "1419/1419 [==============================] - 4s 3ms/step - loss: 2.1201e-06 - accuracy: 1.0000\n",
            "Epoch 67/100\n",
            "1419/1419 [==============================] - 4s 3ms/step - loss: 7.2006e-07 - accuracy: 1.0000\n",
            "Epoch 68/100\n",
            "1419/1419 [==============================] - 4s 3ms/step - loss: 1.3957e-06 - accuracy: 1.0000\n",
            "Epoch 69/100\n",
            "1419/1419 [==============================] - 4s 3ms/step - loss: 2.5372e-06 - accuracy: 1.0000\n",
            "Epoch 70/100\n",
            "1419/1419 [==============================] - 4s 3ms/step - loss: 1.7724e-06 - accuracy: 1.0000\n",
            "Epoch 71/100\n",
            "1419/1419 [==============================] - 4s 3ms/step - loss: 2.8877e-06 - accuracy: 1.0000\n",
            "Epoch 72/100\n",
            "1419/1419 [==============================] - 4s 3ms/step - loss: 1.4356e-06 - accuracy: 1.0000\n",
            "Epoch 73/100\n",
            "1419/1419 [==============================] - 4s 3ms/step - loss: 1.9381e-06 - accuracy: 1.0000\n",
            "Epoch 74/100\n",
            "1419/1419 [==============================] - 4s 3ms/step - loss: 7.2762e-07 - accuracy: 1.0000\n",
            "Epoch 75/100\n",
            "1419/1419 [==============================] - 4s 3ms/step - loss: 1.7770e-06 - accuracy: 1.0000\n",
            "Epoch 76/100\n",
            "1419/1419 [==============================] - 4s 3ms/step - loss: 3.1995e-06 - accuracy: 1.0000\n",
            "Epoch 77/100\n",
            "1419/1419 [==============================] - 4s 3ms/step - loss: 6.8820e-07 - accuracy: 1.0000\n",
            "Epoch 78/100\n",
            "1419/1419 [==============================] - 4s 3ms/step - loss: 6.5957e-07 - accuracy: 1.0000\n",
            "Epoch 79/100\n",
            "1419/1419 [==============================] - 4s 3ms/step - loss: 3.9373e-06 - accuracy: 1.0000\n",
            "Epoch 80/100\n",
            "1419/1419 [==============================] - 4s 3ms/step - loss: 3.3242e-06 - accuracy: 0.9999\n",
            "Epoch 81/100\n",
            "1419/1419 [==============================] - 4s 3ms/step - loss: 9.3722e-07 - accuracy: 1.0000\n",
            "Epoch 82/100\n",
            "1419/1419 [==============================] - 4s 3ms/step - loss: 1.8555e-07 - accuracy: 1.0000\n",
            "Epoch 83/100\n",
            "1419/1419 [==============================] - 4s 3ms/step - loss: 1.1555e-06 - accuracy: 1.0000\n",
            "Epoch 84/100\n",
            "1419/1419 [==============================] - 4s 3ms/step - loss: 3.0484e-06 - accuracy: 0.9999\n",
            "Epoch 85/100\n",
            "1419/1419 [==============================] - 4s 3ms/step - loss: 1.3100e-06 - accuracy: 1.0000\n",
            "Epoch 86/100\n",
            "1419/1419 [==============================] - 4s 3ms/step - loss: 2.0064e-06 - accuracy: 1.0000\n",
            "Epoch 87/100\n",
            "1419/1419 [==============================] - 4s 3ms/step - loss: 5.7706e-07 - accuracy: 1.0000\n",
            "Epoch 88/100\n",
            "1419/1419 [==============================] - 4s 3ms/step - loss: 2.9703e-07 - accuracy: 1.0000\n",
            "Epoch 89/100\n",
            "1419/1419 [==============================] - 4s 3ms/step - loss: 1.3785e-06 - accuracy: 1.0000\n",
            "Epoch 90/100\n",
            "1419/1419 [==============================] - 4s 3ms/step - loss: 2.8910e-06 - accuracy: 1.0000\n",
            "Epoch 91/100\n",
            "1419/1419 [==============================] - 4s 3ms/step - loss: 1.0580e-06 - accuracy: 1.0000\n",
            "Epoch 92/100\n",
            "1419/1419 [==============================] - 4s 3ms/step - loss: 1.7963e-06 - accuracy: 1.0000\n",
            "Epoch 93/100\n",
            "1419/1419 [==============================] - 4s 3ms/step - loss: 1.7716e-06 - accuracy: 1.0000\n",
            "Epoch 94/100\n",
            "1419/1419 [==============================] - 4s 3ms/step - loss: 1.6886e-07 - accuracy: 1.0000\n",
            "Epoch 95/100\n",
            "1419/1419 [==============================] - 4s 3ms/step - loss: 1.8353e-06 - accuracy: 1.0000\n",
            "Epoch 96/100\n",
            "1419/1419 [==============================] - 4s 3ms/step - loss: 2.8231e-09 - accuracy: 1.0000\n",
            "Epoch 97/100\n",
            "1419/1419 [==============================] - 4s 3ms/step - loss: 1.0705e-09 - accuracy: 1.0000\n",
            "Epoch 98/100\n",
            "1419/1419 [==============================] - 4s 3ms/step - loss: 7.0197e-10 - accuracy: 1.0000\n",
            "Epoch 99/100\n",
            "1419/1419 [==============================] - 4s 3ms/step - loss: 4.4353e-10 - accuracy: 1.0000\n",
            "Epoch 100/100\n",
            "1419/1419 [==============================] - 4s 3ms/step - loss: 2.8795e-10 - accuracy: 1.0000\n",
            "609/609 - 1s - loss: 1.6263e-06 - accuracy: 0.9999 - 995ms/epoch - 2ms/step\n"
          ]
        }
      ],
      "source": [
        "model.fit(x_train, y_train, epochs=100)\n",
        "score = model.evaluate(x_test, y_test, verbose=2)"
      ]
    },
    {
      "cell_type": "code",
      "execution_count": null,
      "metadata": {
        "id": "lznry1JxVlab",
        "colab": {
          "base_uri": "https://localhost:8080/"
        },
        "outputId": "1515d1d3-d112-4f12-d502-cebcab8c0cfd"
      },
      "outputs": [
        {
          "output_type": "stream",
          "name": "stdout",
          "text": [
            "609/609 [==============================] - 1s 1ms/step\n",
            "[0 0 0 0 0 0 0 0 0 0 0 0 0 0 0 0 1 1 1 1 1 0 1 1 0 1 0 1 1 1 1 0]   [0 0 0 0 0 0 0 0 0 0 0 0 0 0 0 0 0 0 0 0 0 0 0 0 0 0 0 0 0 0 1 0]   [0. 0. 0. 0. 0. 0. 0. 0. 0. 0. 0. 0. 0. 0. 0. 0. 0. 0. 0. 0. 0. 0. 0. 0.\n",
            " 0. 0. 0. 0. 0. 0. 1. 0.]\n"
          ]
        }
      ],
      "source": [
        "#Comparing the data and writing into the file ( input_output_predict.txt)\n",
        "y_predict = model.predict(x_test).round()\n",
        "\n",
        "print(x_test[100],\" \",y_test[100],\" \",y_predict[100])\n",
        "# f = open(\"input_output_predict.txt\", \"w\")\n",
        "# n = y_test.size\n",
        "# cnt = 0\n",
        "# for i in range(0,n-1):\n",
        "#     # f.write(\"[\")\n",
        "#     # count = 0\n",
        "#     # for x in x_test[i]:\n",
        "#     #     for j in x:\n",
        "#     #       f.write(str(j)+\",\")\n",
        "#     # f.write(\"];\\t\")\n",
        "#     # f.write(\"[\"+str(y_test[i])+\"];\\t\")\n",
        "#     # f.write(\"[\"+str(y_predict[i])+\"];\\t \\n\")\n",
        "#     ok=1\n",
        "#     # print(\"hi\")\n",
        "#     # print(len(y_test[i]))\n",
        "#     for  y,y_ex in zip(y_test[i],y_predict[i]):\n",
        "#       if y!=y_ex:\n",
        "#         ok=0\n",
        "#     cnt+=ok\n",
        "# f.write(\"Number of matches: \"+str(cnt)+\" out of \" + str(n) +\"\\n\")\n",
        "# f.close()\n",
        "# print(\"Number of matches: \"+str(cnt)+\" out of \" + str(n) )\n",
        " "
      ]
    },
    {
      "cell_type": "code",
      "execution_count": null,
      "metadata": {
        "id": "UC156H5dXBun"
      },
      "outputs": [],
      "source": [
        "num_examples = 300000\n",
        "num_classes = 32\n",
        "test_len = num_examples*0.3\n",
        "len2 = 12\n",
        "#construct input values ,data set stored in the file: input_output_32_bit.txt \n",
        "\n",
        "def input_values():\n",
        "    multiple_values = [map(int, '{0:020b}'.format(i)) for i in range(2 ** 20)]\n",
        "    multiple_values2 = [map(int, '{0:020b}'.format(i)) for i in range(2 ** 20)]\n",
        "    #f = open(\"input_output_32_bit.txt\", \"w\")\n",
        "    random.shuffle(multiple_values)\n",
        "    random.shuffle(multiple_values2)\t\t\n",
        "    #multiple_values = np.hstack((multiple_values1, multiple_values2))\t\n",
        "    #print(len(multiple_values))\n",
        "    final_values = []\t\n",
        "    #temp = []\t\n",
        "    Nfinal_values = []\n",
        "    Ntemp = []\n",
        "\n",
        "    f2 = open(\"New_input_32_bit.txt\", \"w\")\n",
        "    for i in range(num_examples):\n",
        "      value1=multiple_values[i]\n",
        "      value2=multiple_values2[i]\n",
        "      # number1=[]\n",
        "      # number2=[]\n",
        "      # number=[]\n",
        "      temp = []\n",
        "      parity = 0\n",
        "      f2.write(\"[\")\n",
        "      for j in value1:\n",
        "        #number1.append(j)\n",
        "        temp.append([j]) \n",
        "        parity^=j\n",
        "        f2.write(str(j)+\",\")\n",
        "        \n",
        "      loop = 0 \n",
        "      for k in value2:\n",
        "        #number2.append(k)\n",
        "        temp.append([k])\n",
        "        parity^=k \n",
        "        f2.write(str(k)+\",\")\n",
        "        loop = loop + 1\n",
        "        if loop == len2:\n",
        "         break  \n",
        "\n",
        "\n",
        "      f2.write(\"],\\t\")\n",
        "      f2.write(\"[\"+str(parity)+\"]\\t\"+\"\\n\")\n",
        "      final_values.append(temp)\n",
        "    f2.close\n",
        "    #print(final_values)\n",
        "    return final_values\n",
        "\n",
        "    \n",
        "#calculate output values\n",
        "def output_values(inputs):\n",
        "    final_values = []\n",
        "    for value in inputs:\n",
        "        # output_values = [0 for _ in range(num_classes)]\n",
        "        count = 0\n",
        "        for i in value:\n",
        "            count ^= i[0]\n",
        "        # if count < num_classes:\n",
        "            # output_values[count] = 1\n",
        "        final_values.append([count])\n",
        "    return final_values\n"
      ]
    }
  ],
  "metadata": {
    "colab": {
      "provenance": [],
      "include_colab_link": true
    },
    "kernelspec": {
      "display_name": "Python 3",
      "name": "python3"
    },
    "language_info": {
      "name": "python"
    },
    "accelerator": "GPU",
    "gpuClass": "standard"
  },
  "nbformat": 4,
  "nbformat_minor": 0
}