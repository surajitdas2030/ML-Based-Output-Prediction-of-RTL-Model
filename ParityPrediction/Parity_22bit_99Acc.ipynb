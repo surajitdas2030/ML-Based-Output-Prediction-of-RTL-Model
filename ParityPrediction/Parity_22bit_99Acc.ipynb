{
  "cells": [
    {
      "cell_type": "markdown",
      "metadata": {
        "id": "view-in-github",
        "colab_type": "text"
      },
      "source": [
        "<a href=\"https://colab.research.google.com/github/surajitdas2030/ML-Based-Output-Prediction-of-RTL-Model/blob/main/ParityPrediction/Parity_22bit_99Acc.ipynb\" target=\"_parent\"><img src=\"https://colab.research.google.com/assets/colab-badge.svg\" alt=\"Open In Colab\"/></a>"
      ]
    },
    {
      "cell_type": "code",
      "execution_count": null,
      "metadata": {
        "colab": {
          "base_uri": "https://localhost:8080/"
        },
        "id": "smVZu0ZkDIVL",
        "outputId": "9947581b-0aa1-497b-f309-ffdf0a70022c"
      },
      "outputs": [
        {
          "output_type": "stream",
          "name": "stdout",
          "text": [
            "Colab only includes TensorFlow 2.x; %tensorflow_version has no effect.\n"
          ]
        }
      ],
      "source": [
        "# only for Google Colab compatibiity\n",
        "try:\n",
        "  # %tensorflow_version only exists in Colab.\n",
        "  %tensorflow_version 2.x\n",
        "except Exception:\n",
        "  pass"
      ]
    },
    {
      "cell_type": "code",
      "execution_count": null,
      "metadata": {
        "colab": {
          "base_uri": "https://localhost:8080/"
        },
        "id": "0qfLj-yKG04w",
        "outputId": "d025f9cd-e9e8-4261-c22b-9920e8579133"
      },
      "outputs": [
        {
          "output_type": "stream",
          "name": "stdout",
          "text": [
            "2.9.2\n"
          ]
        }
      ],
      "source": [
        "import numpy as np\n",
        "\n",
        "import tensorflow as tf\n",
        "from tensorflow.keras import models, layers, activations\n",
        "import random\n",
        "print(tf.__version__)\n",
        "np.random.seed(0)\n",
        "tf.random.set_seed(0)"
      ]
    },
    {
      "cell_type": "code",
      "execution_count": null,
      "metadata": {
        "id": "e53-4_dhOvc7"
      },
      "outputs": [],
      "source": [
        "%matplotlib notebook"
      ]
    },
    {
      "cell_type": "code",
      "execution_count": null,
      "metadata": {
        "id": "5c6XTFaMAf-f"
      },
      "outputs": [],
      "source": [
        "num_examples = 100000\n",
        "num_classes = 32\n",
        "\n",
        "#construct input values ,data set stored in the file: input_output_32_bit.txt \n",
        "def input_values():\n",
        "    multiple_values = [map(int, '{0:032b}'.format(i)) for i in range(2 ** 22)]\n",
        "    f = open(\"input_output_32_bit.txt\", \"w\")\n",
        "    random.shuffle(multiple_values)\n",
        "    final_values = []\n",
        "    for value in multiple_values[:num_examples]:\n",
        "        temp = []\n",
        "        f.write(\"[\")\n",
        "        count = 0\n",
        "        for number in value:\n",
        "            temp.append([number])\n",
        "            count^=number\n",
        "            f.write(str(number)+\",\")\n",
        "        f.write(\"],\\t\")\n",
        "        f.write(\"[\"+str(count)+\"]\\t\"+\"\\n\")\n",
        "        final_values.append(temp)\n",
        "    f.close\n",
        "    return final_values\n",
        "    \n",
        "#calculate output values\n",
        "def output_values(inputs):\n",
        "    final_values = []\n",
        "    for value in inputs:\n",
        "        # output_values = [0 for _ in range(num_classes)]\n",
        "        count = 0\n",
        "        for i in value:\n",
        "            count ^= i[0]\n",
        "        # if count < num_classes:\n",
        "            # output_values[count] = 1\n",
        "        final_values.append([count])\n",
        "    return final_values\n"
      ]
    },
    {
      "cell_type": "markdown",
      "metadata": {
        "id": "xT3ZM-S6Afz0"
      },
      "source": []
    },
    {
      "cell_type": "code",
      "execution_count": null,
      "metadata": {
        "id": "69M8fzA9Me2k"
      },
      "outputs": [],
      "source": [
        "x_samples = input_values()\n",
        "y_samples = output_values(x_samples)"
      ]
    },
    {
      "cell_type": "code",
      "execution_count": null,
      "metadata": {
        "colab": {
          "base_uri": "https://localhost:8080/"
        },
        "id": "e9DxNbchB-S6",
        "outputId": "4df64fcd-be5b-4e6c-c312-d1fa936de7d3"
      },
      "outputs": [
        {
          "output_type": "execute_result",
          "data": {
            "text/plain": [
              "100000"
            ]
          },
          "metadata": {},
          "execution_count": 18
        }
      ],
      "source": [
        "len(y_samples)\n"
      ]
    },
    {
      "cell_type": "code",
      "execution_count": null,
      "metadata": {
        "id": "_cDMI7Y0G6U_"
      },
      "outputs": [],
      "source": [
        "x = np.array(x_samples) # 32 inputs\n",
        "y = np.array(y_samples) # 1 ootput"
      ]
    },
    {
      "cell_type": "code",
      "execution_count": null,
      "metadata": {
        "id": "4yvp6BOQRoGP"
      },
      "outputs": [],
      "source": [
        "from sklearn.model_selection import train_test_split\n",
        "x_train, x_test, y_train, y_test = train_test_split(x, y, test_size=0.3, shuffle=True)"
      ]
    },
    {
      "cell_type": "code",
      "execution_count": null,
      "metadata": {
        "colab": {
          "base_uri": "https://localhost:8080/"
        },
        "id": "ArLM-bGjP34l",
        "outputId": "ba2de8d5-0e3c-4a70-b5d7-d19aa4853643"
      },
      "outputs": [
        {
          "output_type": "stream",
          "name": "stdout",
          "text": [
            "Model: \"sequential_1\"\n",
            "_________________________________________________________________\n",
            " Layer (type)                Output Shape              Param #   \n",
            "=================================================================\n",
            " dense_3 (Dense)             (None, 64)                2112      \n",
            "                                                                 \n",
            " dense_4 (Dense)             (None, 32)                2080      \n",
            "                                                                 \n",
            " dense_5 (Dense)             (None, 1)                 33        \n",
            "                                                                 \n",
            "=================================================================\n",
            "Total params: 4,225\n",
            "Trainable params: 4,225\n",
            "Non-trainable params: 0\n",
            "_________________________________________________________________\n"
          ]
        }
      ],
      "source": [
        "#ANN1\n",
        "#model = models.Sequential(name='Parity_checker')\n",
        "#model.add(layers.Input(shape=(32,), name='input'))\n",
        "#model.add(layers.Dense(units=32,activation=activations.relu, name='hidden1'))\n",
        "## model.add(layers.Dense(units=3, activation=activations.sigmoid, name='hidden2'))\n",
        "#model.add(layers.Dense(units=1, activation=activations.sigmoid, name='output'))\n",
        "\n",
        "#add the layers\n",
        "#ANN2:0.99 accuracy\n",
        "model = tf.keras.models.Sequential()\n",
        "model.add(tf.keras.layers.Dense(64, input_dim=32, activation='relu'))\n",
        "model.add(tf.keras.layers.Dense(32, activation='relu'))\n",
        "##model.add(tf.keras.layers.Dense(16, activation='relu'))\n",
        "model.add(tf.keras.layers.Dense(1, activation='sigmoid'))\n",
        "\n",
        "model.summary()"
      ]
    },
    {
      "cell_type": "code",
      "execution_count": null,
      "metadata": {
        "id": "x23CuX8Kk8b6"
      },
      "outputs": [],
      "source": [
        "#model.compile(loss='binary_crossentropy', optimizer='adam',metrics=['accuracy'])\n",
        "model.compile(loss='mse', optimizer='adam',metrics=['accuracy'])"
      ]
    },
    {
      "cell_type": "markdown",
      "metadata": {
        "id": "pDYql-F7YGYA"
      },
      "source": [
        "Comparing the data and writing into the file ( **input_output_predict.txt**)\n",
        "\n",
        "Here the\n",
        "*  **x_text** is the input sample data\n",
        "*  **y_text** is the expected output data\n",
        "*  **y_predict** is predicted output data\n"
      ]
    },
    {
      "cell_type": "code",
      "execution_count": null,
      "metadata": {
        "id": "F2j6Ej2ClAiZ",
        "colab": {
          "base_uri": "https://localhost:8080/"
        },
        "outputId": "8b9917cf-18f0-49c6-c763-d17e939b3ee3"
      },
      "outputs": [
        {
          "output_type": "stream",
          "name": "stdout",
          "text": [
            "Epoch 1/200\n",
            "2188/2188 [==============================] - 6s 3ms/step - loss: 0.2505 - accuracy: 0.5001\n",
            "Epoch 2/200\n",
            "2188/2188 [==============================] - 6s 3ms/step - loss: 0.2501 - accuracy: 0.5069\n",
            "Epoch 3/200\n",
            "2188/2188 [==============================] - 6s 3ms/step - loss: 0.2499 - accuracy: 0.5124\n",
            "Epoch 4/200\n",
            "2188/2188 [==============================] - 6s 3ms/step - loss: 0.2498 - accuracy: 0.5103\n",
            "Epoch 5/200\n",
            "2188/2188 [==============================] - 6s 3ms/step - loss: 0.2496 - accuracy: 0.5171\n",
            "Epoch 6/200\n",
            "2188/2188 [==============================] - 6s 3ms/step - loss: 0.2492 - accuracy: 0.5226\n",
            "Epoch 7/200\n",
            "2188/2188 [==============================] - 6s 3ms/step - loss: 0.2489 - accuracy: 0.5246\n",
            "Epoch 8/200\n",
            "2188/2188 [==============================] - 6s 3ms/step - loss: 0.2484 - accuracy: 0.5301\n",
            "Epoch 9/200\n",
            "2188/2188 [==============================] - 6s 3ms/step - loss: 0.2479 - accuracy: 0.5361\n",
            "Epoch 10/200\n",
            "2188/2188 [==============================] - 6s 3ms/step - loss: 0.2473 - accuracy: 0.5387\n",
            "Epoch 11/200\n",
            "2188/2188 [==============================] - 6s 3ms/step - loss: 0.2469 - accuracy: 0.5422\n",
            "Epoch 12/200\n",
            "2188/2188 [==============================] - 6s 3ms/step - loss: 0.2462 - accuracy: 0.5485\n",
            "Epoch 13/200\n",
            "2188/2188 [==============================] - 6s 3ms/step - loss: 0.2456 - accuracy: 0.5493\n",
            "Epoch 14/200\n",
            "2188/2188 [==============================] - 6s 3ms/step - loss: 0.2453 - accuracy: 0.5522\n",
            "Epoch 15/200\n",
            "2188/2188 [==============================] - 6s 3ms/step - loss: 0.2446 - accuracy: 0.5552\n",
            "Epoch 16/200\n",
            "2188/2188 [==============================] - 6s 3ms/step - loss: 0.2440 - accuracy: 0.5592\n",
            "Epoch 17/200\n",
            "2188/2188 [==============================] - 6s 3ms/step - loss: 0.2433 - accuracy: 0.5614\n",
            "Epoch 18/200\n",
            "2188/2188 [==============================] - 6s 3ms/step - loss: 0.2430 - accuracy: 0.5636\n",
            "Epoch 19/200\n",
            "2188/2188 [==============================] - 6s 3ms/step - loss: 0.2424 - accuracy: 0.5674\n",
            "Epoch 20/200\n",
            "2188/2188 [==============================] - 6s 3ms/step - loss: 0.2420 - accuracy: 0.5666\n",
            "Epoch 21/200\n",
            "2188/2188 [==============================] - 6s 3ms/step - loss: 0.2413 - accuracy: 0.5693\n",
            "Epoch 22/200\n",
            "2188/2188 [==============================] - 6s 3ms/step - loss: 0.2408 - accuracy: 0.5729\n",
            "Epoch 23/200\n",
            "2188/2188 [==============================] - 6s 3ms/step - loss: 0.2405 - accuracy: 0.5724\n",
            "Epoch 24/200\n",
            "2188/2188 [==============================] - 6s 3ms/step - loss: 0.2399 - accuracy: 0.5755\n",
            "Epoch 25/200\n",
            "2188/2188 [==============================] - 6s 3ms/step - loss: 0.2390 - accuracy: 0.5797\n",
            "Epoch 26/200\n",
            "2188/2188 [==============================] - 6s 3ms/step - loss: 0.2382 - accuracy: 0.5844\n",
            "Epoch 27/200\n",
            "2188/2188 [==============================] - 6s 3ms/step - loss: 0.2364 - accuracy: 0.5920\n",
            "Epoch 28/200\n",
            "2188/2188 [==============================] - 6s 3ms/step - loss: 0.2343 - accuracy: 0.6000\n",
            "Epoch 29/200\n",
            "2188/2188 [==============================] - 6s 3ms/step - loss: 0.2320 - accuracy: 0.6072\n",
            "Epoch 30/200\n",
            "2188/2188 [==============================] - 6s 3ms/step - loss: 0.2304 - accuracy: 0.6099\n",
            "Epoch 31/200\n",
            "2188/2188 [==============================] - 6s 3ms/step - loss: 0.2289 - accuracy: 0.6109\n",
            "Epoch 32/200\n",
            "2188/2188 [==============================] - 6s 3ms/step - loss: 0.2271 - accuracy: 0.6116\n",
            "Epoch 33/200\n",
            "2188/2188 [==============================] - 6s 3ms/step - loss: 0.2244 - accuracy: 0.6181\n",
            "Epoch 34/200\n",
            "2188/2188 [==============================] - 6s 3ms/step - loss: 0.2210 - accuracy: 0.6243\n",
            "Epoch 35/200\n",
            "2188/2188 [==============================] - 6s 3ms/step - loss: 0.2178 - accuracy: 0.6278\n",
            "Epoch 36/200\n",
            "2188/2188 [==============================] - 6s 3ms/step - loss: 0.2131 - accuracy: 0.6355\n",
            "Epoch 37/200\n",
            "2188/2188 [==============================] - 6s 3ms/step - loss: 0.1964 - accuracy: 0.6707\n",
            "Epoch 38/200\n",
            "2188/2188 [==============================] - 6s 3ms/step - loss: 0.1883 - accuracy: 0.6858\n",
            "Epoch 39/200\n",
            "2188/2188 [==============================] - 6s 3ms/step - loss: 0.1844 - accuracy: 0.6920\n",
            "Epoch 40/200\n",
            "2188/2188 [==============================] - 6s 3ms/step - loss: 0.1750 - accuracy: 0.7087\n",
            "Epoch 41/200\n",
            "2188/2188 [==============================] - 6s 3ms/step - loss: 0.1568 - accuracy: 0.7445\n",
            "Epoch 42/200\n",
            "2188/2188 [==============================] - 6s 3ms/step - loss: 0.1482 - accuracy: 0.7556\n",
            "Epoch 43/200\n",
            "2188/2188 [==============================] - 6s 3ms/step - loss: 0.1385 - accuracy: 0.7691\n",
            "Epoch 44/200\n",
            "2188/2188 [==============================] - 6s 3ms/step - loss: 0.1181 - accuracy: 0.8136\n",
            "Epoch 45/200\n",
            "2188/2188 [==============================] - 6s 3ms/step - loss: 0.1073 - accuracy: 0.8299\n",
            "Epoch 46/200\n",
            "2188/2188 [==============================] - 6s 3ms/step - loss: 0.1017 - accuracy: 0.8352\n",
            "Epoch 47/200\n",
            "2188/2188 [==============================] - 6s 3ms/step - loss: 0.0949 - accuracy: 0.8423\n",
            "Epoch 48/200\n",
            "2188/2188 [==============================] - 6s 3ms/step - loss: 0.0797 - accuracy: 0.8738\n",
            "Epoch 49/200\n",
            "2188/2188 [==============================] - 6s 3ms/step - loss: 0.0606 - accuracy: 0.9072\n",
            "Epoch 50/200\n",
            "2188/2188 [==============================] - 6s 3ms/step - loss: 0.0474 - accuracy: 0.9298\n",
            "Epoch 51/200\n",
            "2188/2188 [==============================] - 6s 3ms/step - loss: 0.0397 - accuracy: 0.9409\n",
            "Epoch 52/200\n",
            "2188/2188 [==============================] - 6s 3ms/step - loss: 0.0313 - accuracy: 0.9583\n",
            "Epoch 53/200\n",
            "2188/2188 [==============================] - 6s 3ms/step - loss: 0.0248 - accuracy: 0.9650\n",
            "Epoch 54/200\n",
            "2188/2188 [==============================] - 6s 3ms/step - loss: 0.0209 - accuracy: 0.9683\n",
            "Epoch 55/200\n",
            "2188/2188 [==============================] - 6s 3ms/step - loss: 0.0170 - accuracy: 0.9759\n",
            "Epoch 56/200\n",
            "2188/2188 [==============================] - 6s 3ms/step - loss: 0.0132 - accuracy: 0.9826\n",
            "Epoch 57/200\n",
            "2188/2188 [==============================] - 6s 3ms/step - loss: 0.0119 - accuracy: 0.9842\n",
            "Epoch 58/200\n",
            "2188/2188 [==============================] - 6s 3ms/step - loss: 0.0102 - accuracy: 0.9865\n",
            "Epoch 59/200\n",
            "2188/2188 [==============================] - 6s 3ms/step - loss: 0.0098 - accuracy: 0.9877\n",
            "Epoch 60/200\n",
            "2188/2188 [==============================] - 6s 3ms/step - loss: 0.0091 - accuracy: 0.9882\n",
            "Epoch 61/200\n",
            "2188/2188 [==============================] - 6s 3ms/step - loss: 0.0084 - accuracy: 0.9892\n",
            "Epoch 62/200\n",
            "2188/2188 [==============================] - 6s 3ms/step - loss: 0.0075 - accuracy: 0.9905\n",
            "Epoch 63/200\n",
            "2188/2188 [==============================] - 6s 3ms/step - loss: 0.0071 - accuracy: 0.9914\n",
            "Epoch 64/200\n",
            "2188/2188 [==============================] - 6s 3ms/step - loss: 0.0064 - accuracy: 0.9928\n",
            "Epoch 65/200\n",
            "2188/2188 [==============================] - 6s 3ms/step - loss: 0.0057 - accuracy: 0.9935\n",
            "Epoch 66/200\n",
            "2188/2188 [==============================] - 6s 3ms/step - loss: 0.0049 - accuracy: 0.9946\n",
            "Epoch 67/200\n",
            "2188/2188 [==============================] - 6s 3ms/step - loss: 0.0046 - accuracy: 0.9945\n",
            "Epoch 68/200\n",
            "2188/2188 [==============================] - 6s 3ms/step - loss: 0.0040 - accuracy: 0.9951\n",
            "Epoch 69/200\n",
            "2188/2188 [==============================] - 6s 3ms/step - loss: 0.0039 - accuracy: 0.9955\n",
            "Epoch 70/200\n",
            "2188/2188 [==============================] - 6s 3ms/step - loss: 0.0039 - accuracy: 0.9954\n",
            "Epoch 71/200\n",
            "2188/2188 [==============================] - 6s 3ms/step - loss: 0.0033 - accuracy: 0.9961\n",
            "Epoch 72/200\n",
            "2188/2188 [==============================] - 6s 3ms/step - loss: 0.0033 - accuracy: 0.9961\n",
            "Epoch 73/200\n",
            "2188/2188 [==============================] - 6s 3ms/step - loss: 0.0037 - accuracy: 0.9958\n",
            "Epoch 74/200\n",
            "2188/2188 [==============================] - 6s 3ms/step - loss: 0.0026 - accuracy: 0.9973\n",
            "Epoch 75/200\n",
            "2188/2188 [==============================] - 6s 3ms/step - loss: 0.0028 - accuracy: 0.9970\n",
            "Epoch 76/200\n",
            "2188/2188 [==============================] - 6s 3ms/step - loss: 0.0025 - accuracy: 0.9973\n",
            "Epoch 77/200\n",
            "2188/2188 [==============================] - 6s 3ms/step - loss: 0.0032 - accuracy: 0.9965\n",
            "Epoch 78/200\n",
            "2188/2188 [==============================] - 6s 3ms/step - loss: 0.0023 - accuracy: 0.9975\n",
            "Epoch 79/200\n",
            "2188/2188 [==============================] - 6s 3ms/step - loss: 0.0023 - accuracy: 0.9976\n",
            "Epoch 80/200\n",
            "2188/2188 [==============================] - 6s 3ms/step - loss: 0.0029 - accuracy: 0.9969\n",
            "Epoch 81/200\n",
            "2188/2188 [==============================] - 6s 3ms/step - loss: 0.0022 - accuracy: 0.9977\n",
            "Epoch 82/200\n",
            "2188/2188 [==============================] - 6s 3ms/step - loss: 0.0021 - accuracy: 0.9978\n",
            "Epoch 83/200\n",
            "2188/2188 [==============================] - 6s 3ms/step - loss: 0.0020 - accuracy: 0.9979\n",
            "Epoch 84/200\n",
            "2188/2188 [==============================] - 6s 3ms/step - loss: 0.0026 - accuracy: 0.9971\n",
            "Epoch 85/200\n",
            "2188/2188 [==============================] - 6s 3ms/step - loss: 0.0020 - accuracy: 0.9978\n",
            "Epoch 86/200\n",
            "2188/2188 [==============================] - 6s 3ms/step - loss: 0.0019 - accuracy: 0.9980\n",
            "Epoch 87/200\n",
            "2188/2188 [==============================] - 6s 3ms/step - loss: 0.0024 - accuracy: 0.9972\n",
            "Epoch 88/200\n",
            "2188/2188 [==============================] - 6s 3ms/step - loss: 0.0019 - accuracy: 0.9980\n",
            "Epoch 89/200\n",
            "2188/2188 [==============================] - 6s 3ms/step - loss: 0.0018 - accuracy: 0.9981\n",
            "Epoch 90/200\n",
            "2188/2188 [==============================] - 6s 3ms/step - loss: 0.0024 - accuracy: 0.9973\n",
            "Epoch 91/200\n",
            "2188/2188 [==============================] - 6s 3ms/step - loss: 0.0018 - accuracy: 0.9981\n",
            "Epoch 92/200\n",
            "2188/2188 [==============================] - 6s 3ms/step - loss: 0.0018 - accuracy: 0.9982\n",
            "Epoch 93/200\n",
            "2188/2188 [==============================] - 6s 3ms/step - loss: 0.0020 - accuracy: 0.9979\n",
            "Epoch 94/200\n",
            "2188/2188 [==============================] - 6s 3ms/step - loss: 0.0021 - accuracy: 0.9977\n",
            "Epoch 95/200\n",
            "2188/2188 [==============================] - 6s 3ms/step - loss: 0.0018 - accuracy: 0.9982\n",
            "Epoch 96/200\n",
            "2188/2188 [==============================] - 6s 3ms/step - loss: 0.0018 - accuracy: 0.9982\n",
            "Epoch 97/200\n",
            "2188/2188 [==============================] - 6s 3ms/step - loss: 0.0023 - accuracy: 0.9975\n",
            "Epoch 98/200\n",
            "2188/2188 [==============================] - 6s 3ms/step - loss: 0.0017 - accuracy: 0.9983\n",
            "Epoch 99/200\n",
            "2188/2188 [==============================] - 6s 3ms/step - loss: 0.0018 - accuracy: 0.9981\n",
            "Epoch 100/200\n",
            "2188/2188 [==============================] - 6s 3ms/step - loss: 0.0017 - accuracy: 0.9982\n",
            "Epoch 101/200\n",
            "2188/2188 [==============================] - 6s 3ms/step - loss: 0.0019 - accuracy: 0.9979\n",
            "Epoch 102/200\n",
            "2188/2188 [==============================] - 6s 3ms/step - loss: 0.0019 - accuracy: 0.9980\n",
            "Epoch 103/200\n",
            "2188/2188 [==============================] - 6s 3ms/step - loss: 0.0017 - accuracy: 0.9982\n",
            "Epoch 104/200\n",
            "2188/2188 [==============================] - 6s 3ms/step - loss: 0.0017 - accuracy: 0.9983\n",
            "Epoch 105/200\n",
            "2188/2188 [==============================] - 6s 3ms/step - loss: 0.0017 - accuracy: 0.9982\n",
            "Epoch 106/200\n",
            "2188/2188 [==============================] - 6s 3ms/step - loss: 0.0016 - accuracy: 0.9984\n",
            "Epoch 107/200\n",
            "2188/2188 [==============================] - 6s 3ms/step - loss: 0.0020 - accuracy: 0.9979\n",
            "Epoch 108/200\n",
            "2188/2188 [==============================] - 6s 3ms/step - loss: 0.0016 - accuracy: 0.9983\n",
            "Epoch 109/200\n",
            "2188/2188 [==============================] - 6s 3ms/step - loss: 0.0016 - accuracy: 0.9984\n",
            "Epoch 110/200\n",
            "2188/2188 [==============================] - 6s 3ms/step - loss: 0.0017 - accuracy: 0.9982\n",
            "Epoch 111/200\n",
            "2188/2188 [==============================] - 6s 3ms/step - loss: 0.0022 - accuracy: 0.9976\n",
            "Epoch 112/200\n",
            "2188/2188 [==============================] - 6s 3ms/step - loss: 0.0016 - accuracy: 0.9984\n",
            "Epoch 113/200\n",
            "2188/2188 [==============================] - 6s 3ms/step - loss: 0.0015 - accuracy: 0.9985\n",
            "Epoch 114/200\n",
            "2188/2188 [==============================] - 6s 3ms/step - loss: 0.0016 - accuracy: 0.9983\n",
            "Epoch 115/200\n",
            "2188/2188 [==============================] - 6s 3ms/step - loss: 0.0019 - accuracy: 0.9980\n",
            "Epoch 116/200\n",
            "2188/2188 [==============================] - 6s 3ms/step - loss: 0.0015 - accuracy: 0.9985\n",
            "Epoch 117/200\n",
            "2188/2188 [==============================] - 6s 3ms/step - loss: 0.0017 - accuracy: 0.9982\n",
            "Epoch 118/200\n",
            "2188/2188 [==============================] - 6s 3ms/step - loss: 0.0015 - accuracy: 0.9985\n",
            "Epoch 119/200\n",
            "2188/2188 [==============================] - 6s 3ms/step - loss: 0.0014 - accuracy: 0.9986\n",
            "Epoch 120/200\n",
            "2188/2188 [==============================] - 6s 3ms/step - loss: 0.0022 - accuracy: 0.9976\n",
            "Epoch 121/200\n",
            "2188/2188 [==============================] - 6s 3ms/step - loss: 0.0014 - accuracy: 0.9986\n",
            "Epoch 122/200\n",
            "2188/2188 [==============================] - 6s 3ms/step - loss: 0.0019 - accuracy: 0.9981\n",
            "Epoch 123/200\n",
            "2188/2188 [==============================] - 6s 3ms/step - loss: 0.0015 - accuracy: 0.9985\n",
            "Epoch 124/200\n",
            "2188/2188 [==============================] - 6s 3ms/step - loss: 0.0016 - accuracy: 0.9983\n",
            "Epoch 125/200\n",
            "2188/2188 [==============================] - 6s 3ms/step - loss: 0.0014 - accuracy: 0.9986\n",
            "Epoch 126/200\n",
            "2188/2188 [==============================] - 6s 3ms/step - loss: 0.0018 - accuracy: 0.9981\n",
            "Epoch 127/200\n",
            "2188/2188 [==============================] - 6s 3ms/step - loss: 0.0014 - accuracy: 0.9986\n",
            "Epoch 128/200\n",
            "2188/2188 [==============================] - 6s 3ms/step - loss: 0.0018 - accuracy: 0.9981\n",
            "Epoch 129/200\n",
            "2188/2188 [==============================] - 6s 3ms/step - loss: 0.0014 - accuracy: 0.9986\n",
            "Epoch 130/200\n",
            "2188/2188 [==============================] - 6s 3ms/step - loss: 0.0014 - accuracy: 0.9986\n",
            "Epoch 131/200\n",
            "2188/2188 [==============================] - 6s 3ms/step - loss: 0.0015 - accuracy: 0.9984\n",
            "Epoch 132/200\n",
            "2188/2188 [==============================] - 6s 3ms/step - loss: 0.0017 - accuracy: 0.9982\n",
            "Epoch 133/200\n",
            "2188/2188 [==============================] - 6s 3ms/step - loss: 0.0015 - accuracy: 0.9986\n",
            "Epoch 134/200\n",
            "2188/2188 [==============================] - 6s 3ms/step - loss: 0.0016 - accuracy: 0.9984\n",
            "Epoch 135/200\n",
            "2188/2188 [==============================] - 6s 3ms/step - loss: 0.0014 - accuracy: 0.9986\n",
            "Epoch 136/200\n",
            "2188/2188 [==============================] - 6s 3ms/step - loss: 0.0017 - accuracy: 0.9982\n",
            "Epoch 137/200\n",
            "2188/2188 [==============================] - 6s 3ms/step - loss: 0.0014 - accuracy: 0.9987\n",
            "Epoch 138/200\n",
            "2188/2188 [==============================] - 6s 3ms/step - loss: 0.0014 - accuracy: 0.9986\n",
            "Epoch 139/200\n",
            "2188/2188 [==============================] - 6s 3ms/step - loss: 0.0015 - accuracy: 0.9985\n",
            "Epoch 140/200\n",
            "2188/2188 [==============================] - 6s 3ms/step - loss: 0.0014 - accuracy: 0.9986\n",
            "Epoch 141/200\n",
            "2188/2188 [==============================] - 6s 3ms/step - loss: 0.0014 - accuracy: 0.9985\n",
            "Epoch 142/200\n",
            "2188/2188 [==============================] - 6s 3ms/step - loss: 0.0018 - accuracy: 0.9981\n",
            "Epoch 143/200\n",
            "2188/2188 [==============================] - 6s 3ms/step - loss: 0.0015 - accuracy: 0.9985\n",
            "Epoch 144/200\n",
            "2188/2188 [==============================] - 6s 3ms/step - loss: 0.0014 - accuracy: 0.9986\n",
            "Epoch 145/200\n",
            "2188/2188 [==============================] - 6s 3ms/step - loss: 0.0017 - accuracy: 0.9982\n",
            "Epoch 146/200\n",
            "2188/2188 [==============================] - 6s 3ms/step - loss: 0.0014 - accuracy: 0.9987\n",
            "Epoch 147/200\n",
            "2188/2188 [==============================] - 6s 3ms/step - loss: 0.0014 - accuracy: 0.9986\n",
            "Epoch 148/200\n",
            "2188/2188 [==============================] - 6s 3ms/step - loss: 0.0014 - accuracy: 0.9986\n",
            "Epoch 149/200\n",
            "2188/2188 [==============================] - 6s 3ms/step - loss: 0.0019 - accuracy: 0.9980\n",
            "Epoch 150/200\n",
            "2188/2188 [==============================] - 6s 3ms/step - loss: 0.0014 - accuracy: 0.9986\n",
            "Epoch 151/200\n",
            "2188/2188 [==============================] - 6s 3ms/step - loss: 0.0014 - accuracy: 0.9986\n",
            "Epoch 152/200\n",
            "2188/2188 [==============================] - 6s 3ms/step - loss: 0.0014 - accuracy: 0.9986\n",
            "Epoch 153/200\n",
            "2188/2188 [==============================] - 6s 3ms/step - loss: 0.0016 - accuracy: 0.9984\n",
            "Epoch 154/200\n",
            "2188/2188 [==============================] - 6s 3ms/step - loss: 0.0014 - accuracy: 0.9986\n",
            "Epoch 155/200\n",
            "2188/2188 [==============================] - 6s 3ms/step - loss: 0.0013 - accuracy: 0.9987\n",
            "Epoch 156/200\n",
            "2188/2188 [==============================] - 6s 3ms/step - loss: 0.0020 - accuracy: 0.9979\n",
            "Epoch 157/200\n",
            "2188/2188 [==============================] - 6s 3ms/step - loss: 0.0014 - accuracy: 0.9986\n",
            "Epoch 158/200\n",
            "2188/2188 [==============================] - 6s 3ms/step - loss: 0.0013 - accuracy: 0.9987\n",
            "Epoch 159/200\n",
            "2188/2188 [==============================] - 6s 3ms/step - loss: 0.0017 - accuracy: 0.9982\n",
            "Epoch 160/200\n",
            "2188/2188 [==============================] - 6s 3ms/step - loss: 0.0014 - accuracy: 0.9986\n",
            "Epoch 161/200\n",
            "2188/2188 [==============================] - 6s 3ms/step - loss: 0.0013 - accuracy: 0.9987\n",
            "Epoch 162/200\n",
            "2188/2188 [==============================] - 6s 3ms/step - loss: 0.0017 - accuracy: 0.9982\n",
            "Epoch 163/200\n",
            "2188/2188 [==============================] - 6s 3ms/step - loss: 0.0013 - accuracy: 0.9987\n",
            "Epoch 164/200\n",
            "2188/2188 [==============================] - 6s 3ms/step - loss: 0.0013 - accuracy: 0.9987\n",
            "Epoch 165/200\n",
            "2188/2188 [==============================] - 6s 3ms/step - loss: 0.0014 - accuracy: 0.9985\n",
            "Epoch 166/200\n",
            "2188/2188 [==============================] - 6s 3ms/step - loss: 0.0016 - accuracy: 0.9984\n",
            "Epoch 167/200\n",
            "2188/2188 [==============================] - 6s 3ms/step - loss: 0.0015 - accuracy: 0.9985\n",
            "Epoch 168/200\n",
            "2188/2188 [==============================] - 6s 3ms/step - loss: 0.0014 - accuracy: 0.9986\n",
            "Epoch 169/200\n",
            "2188/2188 [==============================] - 6s 3ms/step - loss: 0.0013 - accuracy: 0.9987\n",
            "Epoch 170/200\n",
            "2188/2188 [==============================] - 6s 3ms/step - loss: 0.0017 - accuracy: 0.9982\n",
            "Epoch 171/200\n",
            "2188/2188 [==============================] - 6s 3ms/step - loss: 0.0014 - accuracy: 0.9986\n",
            "Epoch 172/200\n",
            "2188/2188 [==============================] - 6s 3ms/step - loss: 0.0013 - accuracy: 0.9987\n",
            "Epoch 173/200\n",
            "2188/2188 [==============================] - 6s 3ms/step - loss: 0.0015 - accuracy: 0.9985\n",
            "Epoch 174/200\n",
            "2188/2188 [==============================] - 6s 3ms/step - loss: 0.0018 - accuracy: 0.9980\n",
            "Epoch 175/200\n",
            "2188/2188 [==============================] - 6s 3ms/step - loss: 0.0013 - accuracy: 0.9987\n",
            "Epoch 176/200\n",
            "2188/2188 [==============================] - 6s 3ms/step - loss: 0.0014 - accuracy: 0.9986\n",
            "Epoch 177/200\n",
            "2188/2188 [==============================] - 6s 3ms/step - loss: 0.0014 - accuracy: 0.9986\n",
            "Epoch 178/200\n",
            "2188/2188 [==============================] - 6s 3ms/step - loss: 0.0013 - accuracy: 0.9987\n",
            "Epoch 179/200\n",
            "2188/2188 [==============================] - 6s 3ms/step - loss: 0.0013 - accuracy: 0.9987\n",
            "Epoch 180/200\n",
            "2188/2188 [==============================] - 6s 3ms/step - loss: 0.0016 - accuracy: 0.9984\n",
            "Epoch 181/200\n",
            "2188/2188 [==============================] - 6s 3ms/step - loss: 0.0014 - accuracy: 0.9986\n",
            "Epoch 182/200\n",
            "2188/2188 [==============================] - 6s 3ms/step - loss: 0.0014 - accuracy: 0.9986\n",
            "Epoch 183/200\n",
            "2188/2188 [==============================] - 6s 3ms/step - loss: 0.0014 - accuracy: 0.9986\n",
            "Epoch 184/200\n",
            "2188/2188 [==============================] - 6s 3ms/step - loss: 0.0013 - accuracy: 0.9987\n",
            "Epoch 185/200\n",
            "2188/2188 [==============================] - 6s 3ms/step - loss: 0.0013 - accuracy: 0.9987\n",
            "Epoch 186/200\n",
            "2188/2188 [==============================] - 6s 3ms/step - loss: 0.0017 - accuracy: 0.9982\n",
            "Epoch 187/200\n",
            "2188/2188 [==============================] - 6s 3ms/step - loss: 0.0013 - accuracy: 0.9987\n",
            "Epoch 188/200\n",
            "2188/2188 [==============================] - 6s 3ms/step - loss: 0.0013 - accuracy: 0.9987\n",
            "Epoch 189/200\n",
            "2188/2188 [==============================] - 6s 3ms/step - loss: 0.0018 - accuracy: 0.9981\n",
            "Epoch 190/200\n",
            "2188/2188 [==============================] - 6s 3ms/step - loss: 0.0013 - accuracy: 0.9986\n",
            "Epoch 191/200\n",
            "2188/2188 [==============================] - 6s 3ms/step - loss: 0.0013 - accuracy: 0.9987\n",
            "Epoch 192/200\n",
            "2188/2188 [==============================] - 6s 3ms/step - loss: 0.0014 - accuracy: 0.9986\n",
            "Epoch 193/200\n",
            "2188/2188 [==============================] - 6s 3ms/step - loss: 0.0016 - accuracy: 0.9984\n",
            "Epoch 194/200\n",
            "2188/2188 [==============================] - 6s 3ms/step - loss: 0.0013 - accuracy: 0.9987\n",
            "Epoch 195/200\n",
            "2188/2188 [==============================] - 6s 3ms/step - loss: 0.0013 - accuracy: 0.9987\n",
            "Epoch 196/200\n",
            "2188/2188 [==============================] - 6s 3ms/step - loss: 0.0013 - accuracy: 0.9987\n",
            "Epoch 197/200\n",
            "2188/2188 [==============================] - 6s 3ms/step - loss: 0.0017 - accuracy: 0.9982\n",
            "Epoch 198/200\n",
            "2188/2188 [==============================] - 6s 3ms/step - loss: 0.0013 - accuracy: 0.9987\n",
            "Epoch 199/200\n",
            "2188/2188 [==============================] - 6s 3ms/step - loss: 0.0013 - accuracy: 0.9987\n",
            "Epoch 200/200\n",
            "2188/2188 [==============================] - 6s 3ms/step - loss: 0.0013 - accuracy: 0.9987\n",
            "938/938 - 1s - loss: 0.0024 - accuracy: 0.9974 - 1s/epoch - 2ms/step\n"
          ]
        }
      ],
      "source": [
        "model.fit(x_train, y_train, epochs=200)\n",
        "score = model.evaluate(x_test, y_test, verbose=2)"
      ]
    },
    {
      "cell_type": "code",
      "execution_count": null,
      "metadata": {
        "id": "lznry1JxVlab",
        "colab": {
          "base_uri": "https://localhost:8080/"
        },
        "outputId": "027de176-4cbe-4c10-ba50-8c2ace5f0492"
      },
      "outputs": [
        {
          "output_type": "stream",
          "name": "stdout",
          "text": [
            "938/938 [==============================] - 1s 1ms/step\n",
            "Number of matches: 29923 out of 30000\n"
          ]
        }
      ],
      "source": [
        "#Comparing the data and writing into the file ( input_output_predict.txt)\n",
        "y_predict = model.predict(x_test).round()\n",
        "\n",
        "f = open(\"input_output_predict.txt\", \"w\")\n",
        "n = y_test.size\n",
        "cnt = 0\n",
        "for i in range(0,n):\n",
        "    f.write(\"[\")\n",
        "    count = 0\n",
        "    for x in x_test[i]:\n",
        "        for j in x:\n",
        "          f.write(str(j)+\",\")\n",
        "    f.write(\"];\\t\")\n",
        "    f.write(\"[\"+str(y_test[i])+\"];\\t\")\n",
        "    f.write(\"[\"+str(y_predict[i])+\"];\\t \\n\")\n",
        "    if y_predict[i]==y_test[i]:\n",
        "      cnt+=1\n",
        "f.write(\"Number of matches: \"+str(cnt)+\" out of \" + str(n) +\"\\n\")\n",
        "f.close()\n",
        "print(\"Number of matches: \"+str(cnt)+\" out of \" + str(n) )"
      ]
    },
    {
      "cell_type": "code",
      "execution_count": null,
      "metadata": {
        "id": "UC156H5dXBun"
      },
      "outputs": [],
      "source": []
    }
  ],
  "metadata": {
    "colab": {
      "provenance": [],
      "include_colab_link": true
    },
    "kernelspec": {
      "display_name": "Python 3",
      "name": "python3"
    },
    "language_info": {
      "name": "python"
    },
    "accelerator": "GPU",
    "gpuClass": "standard"
  },
  "nbformat": 4,
  "nbformat_minor": 0
}