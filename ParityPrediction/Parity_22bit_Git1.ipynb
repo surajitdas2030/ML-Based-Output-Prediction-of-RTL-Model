{
  "cells": [
    {
      "cell_type": "markdown",
      "metadata": {
        "id": "view-in-github",
        "colab_type": "text"
      },
      "source": [
        "<a href=\"https://colab.research.google.com/github/surajitdas2030/ML-Based-Output-Prediction-of-RTL-Model/blob/main/ParityPrediction/Parity_22bit_Git1.ipynb\" target=\"_parent\"><img src=\"https://colab.research.google.com/assets/colab-badge.svg\" alt=\"Open In Colab\"/></a>"
      ]
    },
    {
      "cell_type": "code",
      "execution_count": 1,
      "metadata": {
        "colab": {
          "base_uri": "https://localhost:8080/"
        },
        "id": "smVZu0ZkDIVL",
        "outputId": "3c40ee67-85f2-4ada-d888-75a095d69a94"
      },
      "outputs": [
        {
          "output_type": "stream",
          "name": "stdout",
          "text": [
            "Colab only includes TensorFlow 2.x; %tensorflow_version has no effect.\n"
          ]
        }
      ],
      "source": [
        "# only for Google Colab compatibiity\n",
        "try:\n",
        "  # %tensorflow_version only exists in Colab.\n",
        "  %tensorflow_version 2.x\n",
        "except Exception:\n",
        "  pass"
      ]
    },
    {
      "cell_type": "code",
      "execution_count": 2,
      "metadata": {
        "colab": {
          "base_uri": "https://localhost:8080/"
        },
        "id": "0qfLj-yKG04w",
        "outputId": "bbed24a1-68e0-4d0c-87e3-0876a5dd049d"
      },
      "outputs": [
        {
          "output_type": "stream",
          "name": "stdout",
          "text": [
            "2.11.0\n"
          ]
        }
      ],
      "source": [
        "import numpy as np\n",
        "\n",
        "import tensorflow as tf\n",
        "from tensorflow.keras import models, layers, activations\n",
        "import random\n",
        "print(tf.__version__)\n",
        "np.random.seed(0)\n",
        "tf.random.set_seed(0)"
      ]
    },
    {
      "cell_type": "code",
      "execution_count": 3,
      "metadata": {
        "id": "e53-4_dhOvc7"
      },
      "outputs": [],
      "source": [
        "%matplotlib notebook"
      ]
    },
    {
      "cell_type": "code",
      "execution_count": 4,
      "metadata": {
        "id": "5c6XTFaMAf-f"
      },
      "outputs": [],
      "source": [
        "num_examples = 100000\n",
        "num_classes = 32\n",
        "\n",
        "#construct input values ,data set stored in the file: input_output_32_bit.txt \n",
        "def input_values():\n",
        "    multiple_values = [map(int, '{0:032b}'.format(i)) for i in range(2 ** 22)]\n",
        "    f = open(\"input_output_32_bit.txt\", \"w\")\n",
        "    random.shuffle(multiple_values)\n",
        "    final_values = []\n",
        "    for value in multiple_values[:num_examples]:\n",
        "        temp = []\n",
        "        f.write(\"[\")\n",
        "        count = 0\n",
        "        for number in value:\n",
        "            temp.append([number])\n",
        "            count^=number\n",
        "            f.write(str(number)+\",\")\n",
        "        f.write(\"],\\t\")\n",
        "        f.write(\"[\"+str(count)+\"]\\t\"+\"\\n\")\n",
        "        final_values.append(temp)\n",
        "    f.close\n",
        "    return final_values\n",
        "    \n",
        "#calculate output values\n",
        "def output_values(inputs):\n",
        "    final_values = []\n",
        "    for value in inputs:\n",
        "        # output_values = [0 for _ in range(num_classes)]\n",
        "        count = 0\n",
        "        for i in value:\n",
        "            count ^= i[0]\n",
        "        # if count < num_classes:\n",
        "            # output_values[count] = 1\n",
        "        final_values.append([count])\n",
        "    return final_values\n"
      ]
    },
    {
      "cell_type": "markdown",
      "metadata": {
        "id": "xT3ZM-S6Afz0"
      },
      "source": []
    },
    {
      "cell_type": "code",
      "execution_count": 5,
      "metadata": {
        "id": "69M8fzA9Me2k"
      },
      "outputs": [],
      "source": [
        "x_samples = input_values()\n",
        "y_samples = output_values(x_samples)"
      ]
    },
    {
      "cell_type": "code",
      "execution_count": 6,
      "metadata": {
        "colab": {
          "base_uri": "https://localhost:8080/"
        },
        "id": "e9DxNbchB-S6",
        "outputId": "e90163c1-6c1e-4790-9d51-7b856e0be5f1"
      },
      "outputs": [
        {
          "output_type": "execute_result",
          "data": {
            "text/plain": [
              "100000"
            ]
          },
          "metadata": {},
          "execution_count": 6
        }
      ],
      "source": [
        "len(y_samples)\n"
      ]
    },
    {
      "cell_type": "code",
      "execution_count": 7,
      "metadata": {
        "id": "_cDMI7Y0G6U_"
      },
      "outputs": [],
      "source": [
        "x = np.array(x_samples) # 32 inputs\n",
        "y = np.array(y_samples) # 1 ootput"
      ]
    },
    {
      "cell_type": "code",
      "execution_count": 8,
      "metadata": {
        "id": "4yvp6BOQRoGP"
      },
      "outputs": [],
      "source": [
        "from sklearn.model_selection import train_test_split\n",
        "x_train, x_test, y_train, y_test = train_test_split(x, y, test_size=0.3, shuffle=True)"
      ]
    },
    {
      "cell_type": "code",
      "execution_count": 9,
      "metadata": {
        "colab": {
          "base_uri": "https://localhost:8080/"
        },
        "id": "ArLM-bGjP34l",
        "outputId": "d3050f42-d3d5-4a35-8ce3-dc1850b3baa9"
      },
      "outputs": [
        {
          "output_type": "stream",
          "name": "stdout",
          "text": [
            "Model: \"sequential\"\n",
            "_________________________________________________________________\n",
            " Layer (type)                Output Shape              Param #   \n",
            "=================================================================\n",
            " dense (Dense)               (None, 64)                2112      \n",
            "                                                                 \n",
            " dense_1 (Dense)             (None, 32)                2080      \n",
            "                                                                 \n",
            " dense_2 (Dense)             (None, 1)                 33        \n",
            "                                                                 \n",
            "=================================================================\n",
            "Total params: 4,225\n",
            "Trainable params: 4,225\n",
            "Non-trainable params: 0\n",
            "_________________________________________________________________\n"
          ]
        }
      ],
      "source": [
        "#ANN1\n",
        "#model = models.Sequential(name='Parity_checker')\n",
        "#model.add(layers.Input(shape=(32,), name='input'))\n",
        "#model.add(layers.Dense(units=32,activation=activations.relu, name='hidden1'))\n",
        "## model.add(layers.Dense(units=3, activation=activations.sigmoid, name='hidden2'))\n",
        "#model.add(layers.Dense(units=1, activation=activations.sigmoid, name='output'))\n",
        "\n",
        "#add the layers\n",
        "#ANN2:0.99 accuracy\n",
        "model = tf.keras.models.Sequential()\n",
        "model.add(tf.keras.layers.Dense(64, input_dim=32, activation='relu'))\n",
        "model.add(tf.keras.layers.Dense(32, activation='relu'))\n",
        "##model.add(tf.keras.layers.Dense(16, activation='relu'))\n",
        "model.add(tf.keras.layers.Dense(1, activation='sigmoid'))\n",
        "\n",
        "model.summary()"
      ]
    },
    {
      "cell_type": "code",
      "execution_count": 10,
      "metadata": {
        "id": "x23CuX8Kk8b6"
      },
      "outputs": [],
      "source": [
        "#model.compile(loss='binary_crossentropy', optimizer='adam',metrics=['accuracy'])\n",
        "model.compile(loss='mse', optimizer='adam',metrics=['accuracy'])"
      ]
    },
    {
      "cell_type": "markdown",
      "metadata": {
        "id": "pDYql-F7YGYA"
      },
      "source": [
        "Comparing the data and writing into the file ( **input_output_predict.txt**)\n",
        "\n",
        "Here the\n",
        "*  **x_text** is the input sample data\n",
        "*  **y_text** is the expected output data\n",
        "*  **y_predict** is predicted output data\n"
      ]
    },
    {
      "cell_type": "code",
      "execution_count": 11,
      "metadata": {
        "id": "F2j6Ej2ClAiZ",
        "colab": {
          "base_uri": "https://localhost:8080/"
        },
        "outputId": "7bf9e335-218a-4899-a106-46a4f5218663"
      },
      "outputs": [
        {
          "output_type": "stream",
          "name": "stdout",
          "text": [
            "Epoch 1/200\n",
            "2188/2188 [==============================] - 12s 3ms/step - loss: 0.2505 - accuracy: 0.4985\n",
            "Epoch 2/200\n",
            "2188/2188 [==============================] - 8s 3ms/step - loss: 0.2500 - accuracy: 0.5048\n",
            "Epoch 3/200\n",
            "2188/2188 [==============================] - 8s 3ms/step - loss: 0.2499 - accuracy: 0.5061\n",
            "Epoch 4/200\n",
            "2188/2188 [==============================] - 7s 3ms/step - loss: 0.2498 - accuracy: 0.5120\n",
            "Epoch 5/200\n",
            "2188/2188 [==============================] - 7s 3ms/step - loss: 0.2497 - accuracy: 0.5140\n",
            "Epoch 6/200\n",
            "2188/2188 [==============================] - 7s 3ms/step - loss: 0.2496 - accuracy: 0.5127\n",
            "Epoch 7/200\n",
            "2188/2188 [==============================] - 7s 3ms/step - loss: 0.2493 - accuracy: 0.5177\n",
            "Epoch 8/200\n",
            "2188/2188 [==============================] - 7s 3ms/step - loss: 0.2489 - accuracy: 0.5233\n",
            "Epoch 9/200\n",
            "2188/2188 [==============================] - 7s 3ms/step - loss: 0.2486 - accuracy: 0.5253\n",
            "Epoch 10/200\n",
            "2188/2188 [==============================] - 7s 3ms/step - loss: 0.2481 - accuracy: 0.5319\n",
            "Epoch 11/200\n",
            "2188/2188 [==============================] - 7s 3ms/step - loss: 0.2477 - accuracy: 0.5341\n",
            "Epoch 12/200\n",
            "2188/2188 [==============================] - 8s 4ms/step - loss: 0.2472 - accuracy: 0.5392\n",
            "Epoch 13/200\n",
            "2188/2188 [==============================] - 7s 3ms/step - loss: 0.2467 - accuracy: 0.5399\n",
            "Epoch 14/200\n",
            "2188/2188 [==============================] - 8s 4ms/step - loss: 0.2462 - accuracy: 0.5433\n",
            "Epoch 15/200\n",
            "2188/2188 [==============================] - 8s 4ms/step - loss: 0.2459 - accuracy: 0.5448\n",
            "Epoch 16/200\n",
            "2188/2188 [==============================] - 7s 3ms/step - loss: 0.2453 - accuracy: 0.5487\n",
            "Epoch 17/200\n",
            "2188/2188 [==============================] - 8s 3ms/step - loss: 0.2447 - accuracy: 0.5507\n",
            "Epoch 18/200\n",
            "2188/2188 [==============================] - 7s 3ms/step - loss: 0.2442 - accuracy: 0.5541\n",
            "Epoch 19/200\n",
            "2188/2188 [==============================] - 7s 3ms/step - loss: 0.2438 - accuracy: 0.5554\n",
            "Epoch 20/200\n",
            "2188/2188 [==============================] - 8s 3ms/step - loss: 0.2433 - accuracy: 0.5583\n",
            "Epoch 21/200\n",
            "2188/2188 [==============================] - 7s 3ms/step - loss: 0.2429 - accuracy: 0.5594\n",
            "Epoch 22/200\n",
            "2188/2188 [==============================] - 7s 3ms/step - loss: 0.2425 - accuracy: 0.5639\n",
            "Epoch 23/200\n",
            "2188/2188 [==============================] - 7s 3ms/step - loss: 0.2420 - accuracy: 0.5658\n",
            "Epoch 24/200\n",
            "2188/2188 [==============================] - 8s 4ms/step - loss: 0.2416 - accuracy: 0.5673\n",
            "Epoch 25/200\n",
            "2188/2188 [==============================] - 7s 3ms/step - loss: 0.2412 - accuracy: 0.5672\n",
            "Epoch 26/200\n",
            "2188/2188 [==============================] - 7s 3ms/step - loss: 0.2408 - accuracy: 0.5693\n",
            "Epoch 27/200\n",
            "2188/2188 [==============================] - 8s 3ms/step - loss: 0.2405 - accuracy: 0.5718\n",
            "Epoch 28/200\n",
            "2188/2188 [==============================] - 7s 3ms/step - loss: 0.2401 - accuracy: 0.5735\n",
            "Epoch 29/200\n",
            "2188/2188 [==============================] - 8s 3ms/step - loss: 0.2397 - accuracy: 0.5735\n",
            "Epoch 30/200\n",
            "2188/2188 [==============================] - 7s 3ms/step - loss: 0.2393 - accuracy: 0.5761\n",
            "Epoch 31/200\n",
            "2188/2188 [==============================] - 7s 3ms/step - loss: 0.2392 - accuracy: 0.5764\n",
            "Epoch 32/200\n",
            "2188/2188 [==============================] - 7s 3ms/step - loss: 0.2387 - accuracy: 0.5783\n",
            "Epoch 33/200\n",
            "2188/2188 [==============================] - 7s 3ms/step - loss: 0.2385 - accuracy: 0.5775\n",
            "Epoch 34/200\n",
            "2188/2188 [==============================] - 8s 3ms/step - loss: 0.2383 - accuracy: 0.5796\n",
            "Epoch 35/200\n",
            "2188/2188 [==============================] - 7s 3ms/step - loss: 0.2378 - accuracy: 0.5824\n",
            "Epoch 36/200\n",
            "2188/2188 [==============================] - 7s 3ms/step - loss: 0.2375 - accuracy: 0.5828\n",
            "Epoch 37/200\n",
            "2188/2188 [==============================] - 8s 3ms/step - loss: 0.2373 - accuracy: 0.5840\n",
            "Epoch 38/200\n",
            "2188/2188 [==============================] - 7s 3ms/step - loss: 0.2371 - accuracy: 0.5844\n",
            "Epoch 39/200\n",
            "2188/2188 [==============================] - 8s 3ms/step - loss: 0.2369 - accuracy: 0.5842\n",
            "Epoch 40/200\n",
            "2188/2188 [==============================] - 7s 3ms/step - loss: 0.2366 - accuracy: 0.5858\n",
            "Epoch 41/200\n",
            "2188/2188 [==============================] - 7s 3ms/step - loss: 0.2363 - accuracy: 0.5877\n",
            "Epoch 42/200\n",
            "2188/2188 [==============================] - 8s 3ms/step - loss: 0.2361 - accuracy: 0.5897\n",
            "Epoch 43/200\n",
            "2188/2188 [==============================] - 7s 3ms/step - loss: 0.2359 - accuracy: 0.5888\n",
            "Epoch 44/200\n",
            "2188/2188 [==============================] - 7s 3ms/step - loss: 0.2356 - accuracy: 0.5897\n",
            "Epoch 45/200\n",
            "2188/2188 [==============================] - 7s 3ms/step - loss: 0.2355 - accuracy: 0.5886\n",
            "Epoch 46/200\n",
            "2188/2188 [==============================] - 7s 3ms/step - loss: 0.2351 - accuracy: 0.5933\n",
            "Epoch 47/200\n",
            "2188/2188 [==============================] - 7s 3ms/step - loss: 0.2350 - accuracy: 0.5914\n",
            "Epoch 48/200\n",
            "2188/2188 [==============================] - 7s 3ms/step - loss: 0.2349 - accuracy: 0.5919\n",
            "Epoch 49/200\n",
            "2188/2188 [==============================] - 7s 3ms/step - loss: 0.2345 - accuracy: 0.5940\n",
            "Epoch 50/200\n",
            "2188/2188 [==============================] - 7s 3ms/step - loss: 0.2344 - accuracy: 0.5940\n",
            "Epoch 51/200\n",
            "2188/2188 [==============================] - 8s 3ms/step - loss: 0.2342 - accuracy: 0.5950\n",
            "Epoch 52/200\n",
            "2188/2188 [==============================] - 7s 3ms/step - loss: 0.2342 - accuracy: 0.5953\n",
            "Epoch 53/200\n",
            "2188/2188 [==============================] - 7s 3ms/step - loss: 0.2338 - accuracy: 0.5969\n",
            "Epoch 54/200\n",
            "2188/2188 [==============================] - 7s 3ms/step - loss: 0.2333 - accuracy: 0.5974\n",
            "Epoch 55/200\n",
            "2188/2188 [==============================] - 7s 3ms/step - loss: 0.2328 - accuracy: 0.5999\n",
            "Epoch 56/200\n",
            "2188/2188 [==============================] - 7s 3ms/step - loss: 0.2324 - accuracy: 0.6006\n",
            "Epoch 57/200\n",
            "2188/2188 [==============================] - 7s 3ms/step - loss: 0.2321 - accuracy: 0.5995\n",
            "Epoch 58/200\n",
            "2188/2188 [==============================] - 8s 3ms/step - loss: 0.2316 - accuracy: 0.6020\n",
            "Epoch 59/200\n",
            "2188/2188 [==============================] - 7s 3ms/step - loss: 0.2311 - accuracy: 0.6044\n",
            "Epoch 60/200\n",
            "2188/2188 [==============================] - 8s 4ms/step - loss: 0.2299 - accuracy: 0.6062\n",
            "Epoch 61/200\n",
            "2188/2188 [==============================] - 7s 3ms/step - loss: 0.2289 - accuracy: 0.6082\n",
            "Epoch 62/200\n",
            "2188/2188 [==============================] - 7s 3ms/step - loss: 0.2274 - accuracy: 0.6141\n",
            "Epoch 63/200\n",
            "2188/2188 [==============================] - 8s 3ms/step - loss: 0.2261 - accuracy: 0.6144\n",
            "Epoch 64/200\n",
            "2188/2188 [==============================] - 7s 3ms/step - loss: 0.2245 - accuracy: 0.6169\n",
            "Epoch 65/200\n",
            "2188/2188 [==============================] - 7s 3ms/step - loss: 0.2177 - accuracy: 0.6317\n",
            "Epoch 66/200\n",
            "2188/2188 [==============================] - 8s 3ms/step - loss: 0.2035 - accuracy: 0.6592\n",
            "Epoch 67/200\n",
            "2188/2188 [==============================] - 7s 3ms/step - loss: 0.1965 - accuracy: 0.6702\n",
            "Epoch 68/200\n",
            "2188/2188 [==============================] - 8s 3ms/step - loss: 0.1859 - accuracy: 0.6883\n",
            "Epoch 69/200\n",
            "2188/2188 [==============================] - 7s 3ms/step - loss: 0.1678 - accuracy: 0.7106\n",
            "Epoch 70/200\n",
            "2188/2188 [==============================] - 7s 3ms/step - loss: 0.1454 - accuracy: 0.7537\n",
            "Epoch 71/200\n",
            "2188/2188 [==============================] - 7s 3ms/step - loss: 0.1252 - accuracy: 0.7973\n",
            "Epoch 72/200\n",
            "2188/2188 [==============================] - 7s 3ms/step - loss: 0.1172 - accuracy: 0.8047\n",
            "Epoch 73/200\n",
            "2188/2188 [==============================] - 8s 3ms/step - loss: 0.1099 - accuracy: 0.8088\n",
            "Epoch 74/200\n",
            "2188/2188 [==============================] - 7s 3ms/step - loss: 0.0939 - accuracy: 0.8477\n",
            "Epoch 75/200\n",
            "2188/2188 [==============================] - 8s 3ms/step - loss: 0.0714 - accuracy: 0.8880\n",
            "Epoch 76/200\n",
            "2188/2188 [==============================] - 7s 3ms/step - loss: 0.0511 - accuracy: 0.9205\n",
            "Epoch 77/200\n",
            "2188/2188 [==============================] - 7s 3ms/step - loss: 0.0364 - accuracy: 0.9473\n",
            "Epoch 78/200\n",
            "2188/2188 [==============================] - 7s 3ms/step - loss: 0.0275 - accuracy: 0.9565\n",
            "Epoch 79/200\n",
            "2188/2188 [==============================] - 7s 3ms/step - loss: 0.0209 - accuracy: 0.9699\n",
            "Epoch 80/200\n",
            "2188/2188 [==============================] - 7s 3ms/step - loss: 0.0176 - accuracy: 0.9742\n",
            "Epoch 81/200\n",
            "2188/2188 [==============================] - 7s 3ms/step - loss: 0.0155 - accuracy: 0.9782\n",
            "Epoch 82/200\n",
            "2188/2188 [==============================] - 8s 3ms/step - loss: 0.0137 - accuracy: 0.9815\n",
            "Epoch 83/200\n",
            "2188/2188 [==============================] - 8s 3ms/step - loss: 0.0119 - accuracy: 0.9839\n",
            "Epoch 84/200\n",
            "2188/2188 [==============================] - 7s 3ms/step - loss: 0.0108 - accuracy: 0.9856\n",
            "Epoch 85/200\n",
            "2188/2188 [==============================] - 8s 3ms/step - loss: 0.0095 - accuracy: 0.9877\n",
            "Epoch 86/200\n",
            "2188/2188 [==============================] - 7s 3ms/step - loss: 0.0087 - accuracy: 0.9889\n",
            "Epoch 87/200\n",
            "2188/2188 [==============================] - 8s 3ms/step - loss: 0.0078 - accuracy: 0.9903\n",
            "Epoch 88/200\n",
            "2188/2188 [==============================] - 7s 3ms/step - loss: 0.0072 - accuracy: 0.9910\n",
            "Epoch 89/200\n",
            "2188/2188 [==============================] - 7s 3ms/step - loss: 0.0067 - accuracy: 0.9916\n",
            "Epoch 90/200\n",
            "2188/2188 [==============================] - 8s 3ms/step - loss: 0.0061 - accuracy: 0.9926\n",
            "Epoch 91/200\n",
            "2188/2188 [==============================] - 7s 3ms/step - loss: 0.0057 - accuracy: 0.9932\n",
            "Epoch 92/200\n",
            "2188/2188 [==============================] - 8s 3ms/step - loss: 0.0051 - accuracy: 0.9940\n",
            "Epoch 93/200\n",
            "2188/2188 [==============================] - 7s 3ms/step - loss: 0.0049 - accuracy: 0.9943\n",
            "Epoch 94/200\n",
            "2188/2188 [==============================] - 7s 3ms/step - loss: 0.0045 - accuracy: 0.9950\n",
            "Epoch 95/200\n",
            "2188/2188 [==============================] - 8s 4ms/step - loss: 0.0041 - accuracy: 0.9955\n",
            "Epoch 96/200\n",
            "2188/2188 [==============================] - 7s 3ms/step - loss: 0.0038 - accuracy: 0.9958\n",
            "Epoch 97/200\n",
            "2188/2188 [==============================] - 8s 3ms/step - loss: 0.0034 - accuracy: 0.9961\n",
            "Epoch 98/200\n",
            "2188/2188 [==============================] - 7s 3ms/step - loss: 0.0030 - accuracy: 0.9968\n",
            "Epoch 99/200\n",
            "2188/2188 [==============================] - 7s 3ms/step - loss: 0.0030 - accuracy: 0.9965\n",
            "Epoch 100/200\n",
            "2188/2188 [==============================] - 8s 4ms/step - loss: 0.0027 - accuracy: 0.9968\n",
            "Epoch 101/200\n",
            "2188/2188 [==============================] - 7s 3ms/step - loss: 0.0027 - accuracy: 0.9968\n",
            "Epoch 102/200\n",
            "2188/2188 [==============================] - 8s 3ms/step - loss: 0.0023 - accuracy: 0.9973\n",
            "Epoch 103/200\n",
            "2188/2188 [==============================] - 7s 3ms/step - loss: 0.0022 - accuracy: 0.9974\n",
            "Epoch 104/200\n",
            "2188/2188 [==============================] - 7s 3ms/step - loss: 0.0021 - accuracy: 0.9975\n",
            "Epoch 105/200\n",
            "2188/2188 [==============================] - 8s 4ms/step - loss: 0.0019 - accuracy: 0.9979\n",
            "Epoch 106/200\n",
            "2188/2188 [==============================] - 7s 3ms/step - loss: 0.0017 - accuracy: 0.9982\n",
            "Epoch 107/200\n",
            "2188/2188 [==============================] - 7s 3ms/step - loss: 0.0018 - accuracy: 0.9981\n",
            "Epoch 108/200\n",
            "2188/2188 [==============================] - 7s 3ms/step - loss: 0.0015 - accuracy: 0.9984\n",
            "Epoch 109/200\n",
            "2188/2188 [==============================] - 11s 5ms/step - loss: 0.0014 - accuracy: 0.9985\n",
            "Epoch 110/200\n",
            "2188/2188 [==============================] - 7s 3ms/step - loss: 0.0014 - accuracy: 0.9986\n",
            "Epoch 111/200\n",
            "2188/2188 [==============================] - 7s 3ms/step - loss: 0.0012 - accuracy: 0.9986\n",
            "Epoch 112/200\n",
            "2188/2188 [==============================] - 7s 3ms/step - loss: 0.0011 - accuracy: 0.9990\n",
            "Epoch 113/200\n",
            "2188/2188 [==============================] - 8s 3ms/step - loss: 0.0012 - accuracy: 0.9989\n",
            "Epoch 114/200\n",
            "2188/2188 [==============================] - 7s 3ms/step - loss: 9.9861e-04 - accuracy: 0.9990\n",
            "Epoch 115/200\n",
            "2188/2188 [==============================] - 8s 3ms/step - loss: 8.1925e-04 - accuracy: 0.9992\n",
            "Epoch 116/200\n",
            "2188/2188 [==============================] - 7s 3ms/step - loss: 9.6106e-04 - accuracy: 0.9990\n",
            "Epoch 117/200\n",
            "2188/2188 [==============================] - 8s 4ms/step - loss: 8.8517e-04 - accuracy: 0.9991\n",
            "Epoch 118/200\n",
            "2188/2188 [==============================] - 7s 3ms/step - loss: 8.8801e-04 - accuracy: 0.9991\n",
            "Epoch 119/200\n",
            "2188/2188 [==============================] - 7s 3ms/step - loss: 8.9113e-04 - accuracy: 0.9991\n",
            "Epoch 120/200\n",
            "2188/2188 [==============================] - 8s 3ms/step - loss: 7.7192e-04 - accuracy: 0.9992\n",
            "Epoch 121/200\n",
            "2188/2188 [==============================] - 7s 3ms/step - loss: 9.7754e-04 - accuracy: 0.9990\n",
            "Epoch 122/200\n",
            "2188/2188 [==============================] - 8s 3ms/step - loss: 0.0012 - accuracy: 0.9988\n",
            "Epoch 123/200\n",
            "2188/2188 [==============================] - 7s 3ms/step - loss: 7.7586e-04 - accuracy: 0.9992\n",
            "Epoch 124/200\n",
            "2188/2188 [==============================] - 7s 3ms/step - loss: 0.0013 - accuracy: 0.9987\n",
            "Epoch 125/200\n",
            "2188/2188 [==============================] - 8s 3ms/step - loss: 7.7837e-04 - accuracy: 0.9992\n",
            "Epoch 126/200\n",
            "2188/2188 [==============================] - 7s 3ms/step - loss: 7.7339e-04 - accuracy: 0.9992\n",
            "Epoch 127/200\n",
            "2188/2188 [==============================] - 8s 3ms/step - loss: 6.3508e-04 - accuracy: 0.9994\n",
            "Epoch 128/200\n",
            "2188/2188 [==============================] - 7s 3ms/step - loss: 7.8631e-04 - accuracy: 0.9992\n",
            "Epoch 129/200\n",
            "2188/2188 [==============================] - 7s 3ms/step - loss: 6.9409e-04 - accuracy: 0.9993\n",
            "Epoch 130/200\n",
            "2188/2188 [==============================] - 9s 4ms/step - loss: 7.4651e-04 - accuracy: 0.9992\n",
            "Epoch 131/200\n",
            "2188/2188 [==============================] - 7s 3ms/step - loss: 6.5486e-04 - accuracy: 0.9994\n",
            "Epoch 132/200\n",
            "2188/2188 [==============================] - 8s 4ms/step - loss: 7.0179e-04 - accuracy: 0.9992\n",
            "Epoch 133/200\n",
            "2188/2188 [==============================] - 7s 3ms/step - loss: 6.7902e-04 - accuracy: 0.9993\n",
            "Epoch 134/200\n",
            "2188/2188 [==============================] - 8s 4ms/step - loss: 6.0043e-04 - accuracy: 0.9994\n",
            "Epoch 135/200\n",
            "2188/2188 [==============================] - 7s 3ms/step - loss: 6.9821e-04 - accuracy: 0.9993\n",
            "Epoch 136/200\n",
            "2188/2188 [==============================] - 7s 3ms/step - loss: 6.4940e-04 - accuracy: 0.9993\n",
            "Epoch 137/200\n",
            "2188/2188 [==============================] - 8s 3ms/step - loss: 6.4582e-04 - accuracy: 0.9993\n",
            "Epoch 138/200\n",
            "2188/2188 [==============================] - 7s 3ms/step - loss: 7.1150e-04 - accuracy: 0.9993\n",
            "Epoch 139/200\n",
            "2188/2188 [==============================] - 8s 3ms/step - loss: 5.6228e-04 - accuracy: 0.9994\n",
            "Epoch 140/200\n",
            "2188/2188 [==============================] - 7s 3ms/step - loss: 0.0017 - accuracy: 0.9982\n",
            "Epoch 141/200\n",
            "2188/2188 [==============================] - 7s 3ms/step - loss: 6.9078e-04 - accuracy: 0.9993\n",
            "Epoch 142/200\n",
            "2188/2188 [==============================] - 8s 4ms/step - loss: 5.2788e-04 - accuracy: 0.9995\n",
            "Epoch 143/200\n",
            "2188/2188 [==============================] - 7s 3ms/step - loss: 8.9247e-04 - accuracy: 0.9990\n",
            "Epoch 144/200\n",
            "2188/2188 [==============================] - 8s 3ms/step - loss: 4.9852e-04 - accuracy: 0.9995\n",
            "Epoch 145/200\n",
            "2188/2188 [==============================] - 7s 3ms/step - loss: 6.1675e-04 - accuracy: 0.9994\n",
            "Epoch 146/200\n",
            "2188/2188 [==============================] - 8s 3ms/step - loss: 6.8498e-04 - accuracy: 0.9993\n",
            "Epoch 147/200\n",
            "2188/2188 [==============================] - 8s 3ms/step - loss: 5.5144e-04 - accuracy: 0.9994\n",
            "Epoch 148/200\n",
            "2188/2188 [==============================] - 7s 3ms/step - loss: 8.4797e-04 - accuracy: 0.9991\n",
            "Epoch 149/200\n",
            "2188/2188 [==============================] - 8s 3ms/step - loss: 5.6901e-04 - accuracy: 0.9994\n",
            "Epoch 150/200\n",
            "2188/2188 [==============================] - 7s 3ms/step - loss: 4.8882e-04 - accuracy: 0.9995\n",
            "Epoch 151/200\n",
            "2188/2188 [==============================] - 8s 3ms/step - loss: 5.3955e-04 - accuracy: 0.9995\n",
            "Epoch 152/200\n",
            "2188/2188 [==============================] - 7s 3ms/step - loss: 5.7061e-04 - accuracy: 0.9994\n",
            "Epoch 153/200\n",
            "2188/2188 [==============================] - 7s 3ms/step - loss: 4.8869e-04 - accuracy: 0.9995\n",
            "Epoch 154/200\n",
            "2188/2188 [==============================] - 7s 3ms/step - loss: 5.1322e-04 - accuracy: 0.9995\n",
            "Epoch 155/200\n",
            "2188/2188 [==============================] - 7s 3ms/step - loss: 5.0302e-04 - accuracy: 0.9995\n",
            "Epoch 156/200\n",
            "2188/2188 [==============================] - 8s 4ms/step - loss: 5.4352e-04 - accuracy: 0.9994\n",
            "Epoch 157/200\n",
            "2188/2188 [==============================] - 7s 3ms/step - loss: 5.1891e-04 - accuracy: 0.9995\n",
            "Epoch 158/200\n",
            "2188/2188 [==============================] - 7s 3ms/step - loss: 4.6758e-04 - accuracy: 0.9995\n",
            "Epoch 159/200\n",
            "2188/2188 [==============================] - 8s 4ms/step - loss: 6.3469e-04 - accuracy: 0.9993\n",
            "Epoch 160/200\n",
            "2188/2188 [==============================] - 7s 3ms/step - loss: 4.5038e-04 - accuracy: 0.9995\n",
            "Epoch 161/200\n",
            "2188/2188 [==============================] - 8s 3ms/step - loss: 5.7453e-04 - accuracy: 0.9994\n",
            "Epoch 162/200\n",
            "2188/2188 [==============================] - 7s 3ms/step - loss: 4.8160e-04 - accuracy: 0.9995\n",
            "Epoch 163/200\n",
            "2188/2188 [==============================] - 7s 3ms/step - loss: 6.5097e-04 - accuracy: 0.9993\n",
            "Epoch 164/200\n",
            "2188/2188 [==============================] - 8s 3ms/step - loss: 5.0255e-04 - accuracy: 0.9995\n",
            "Epoch 165/200\n",
            "2188/2188 [==============================] - 7s 3ms/step - loss: 5.8207e-04 - accuracy: 0.9994\n",
            "Epoch 166/200\n",
            "2188/2188 [==============================] - 8s 4ms/step - loss: 4.9336e-04 - accuracy: 0.9995\n",
            "Epoch 167/200\n",
            "2188/2188 [==============================] - 7s 3ms/step - loss: 4.8140e-04 - accuracy: 0.9995\n",
            "Epoch 168/200\n",
            "2188/2188 [==============================] - 7s 3ms/step - loss: 4.7879e-04 - accuracy: 0.9995\n",
            "Epoch 169/200\n",
            "2188/2188 [==============================] - 8s 4ms/step - loss: 4.2217e-04 - accuracy: 0.9996\n",
            "Epoch 170/200\n",
            "2188/2188 [==============================] - 7s 3ms/step - loss: 6.2523e-04 - accuracy: 0.9994\n",
            "Epoch 171/200\n",
            "2188/2188 [==============================] - 8s 3ms/step - loss: 6.9378e-04 - accuracy: 0.9993\n",
            "Epoch 172/200\n",
            "2188/2188 [==============================] - 7s 3ms/step - loss: 0.0021 - accuracy: 0.9979\n",
            "Epoch 173/200\n",
            "2188/2188 [==============================] - 7s 3ms/step - loss: 6.9050e-04 - accuracy: 0.9993\n",
            "Epoch 174/200\n",
            "2188/2188 [==============================] - 8s 4ms/step - loss: 4.4281e-04 - accuracy: 0.9995\n",
            "Epoch 175/200\n",
            "2188/2188 [==============================] - 7s 3ms/step - loss: 4.4003e-04 - accuracy: 0.9996\n",
            "Epoch 176/200\n",
            "2188/2188 [==============================] - 8s 3ms/step - loss: 4.5837e-04 - accuracy: 0.9995\n",
            "Epoch 177/200\n",
            "2188/2188 [==============================] - 7s 3ms/step - loss: 6.9454e-04 - accuracy: 0.9993\n",
            "Epoch 178/200\n",
            "2188/2188 [==============================] - 8s 4ms/step - loss: 4.3563e-04 - accuracy: 0.9996\n",
            "Epoch 179/200\n",
            "2188/2188 [==============================] - 8s 3ms/step - loss: 4.5396e-04 - accuracy: 0.9995\n",
            "Epoch 180/200\n",
            "2188/2188 [==============================] - 7s 3ms/step - loss: 7.2301e-04 - accuracy: 0.9992\n",
            "Epoch 181/200\n",
            "2188/2188 [==============================] - 8s 4ms/step - loss: 4.4625e-04 - accuracy: 0.9996\n",
            "Epoch 182/200\n",
            "2188/2188 [==============================] - 7s 3ms/step - loss: 4.0221e-04 - accuracy: 0.9996\n",
            "Epoch 183/200\n",
            "2188/2188 [==============================] - 8s 4ms/step - loss: 4.0094e-04 - accuracy: 0.9996\n",
            "Epoch 184/200\n",
            "2188/2188 [==============================] - 8s 4ms/step - loss: 4.0058e-04 - accuracy: 0.9996\n",
            "Epoch 185/200\n",
            "2188/2188 [==============================] - 7s 3ms/step - loss: 5.9320e-04 - accuracy: 0.9994\n",
            "Epoch 186/200\n",
            "2188/2188 [==============================] - 8s 4ms/step - loss: 5.1190e-04 - accuracy: 0.9995\n",
            "Epoch 187/200\n",
            "2188/2188 [==============================] - 7s 3ms/step - loss: 4.7744e-04 - accuracy: 0.9995\n",
            "Epoch 188/200\n",
            "2188/2188 [==============================] - 8s 3ms/step - loss: 4.2106e-04 - accuracy: 0.9996\n",
            "Epoch 189/200\n",
            "2188/2188 [==============================] - 8s 4ms/step - loss: 7.0010e-04 - accuracy: 0.9992\n",
            "Epoch 190/200\n",
            "2188/2188 [==============================] - 7s 3ms/step - loss: 4.5260e-04 - accuracy: 0.9995\n",
            "Epoch 191/200\n",
            "2188/2188 [==============================] - 8s 4ms/step - loss: 4.0206e-04 - accuracy: 0.9996\n",
            "Epoch 192/200\n",
            "2188/2188 [==============================] - 7s 3ms/step - loss: 4.0071e-04 - accuracy: 0.9996\n",
            "Epoch 193/200\n",
            "2188/2188 [==============================] - 8s 4ms/step - loss: 4.0049e-04 - accuracy: 0.9996\n",
            "Epoch 194/200\n",
            "2188/2188 [==============================] - 8s 4ms/step - loss: 5.9561e-04 - accuracy: 0.9994\n",
            "Epoch 195/200\n",
            "2188/2188 [==============================] - 7s 3ms/step - loss: 4.1889e-04 - accuracy: 0.9996\n",
            "Epoch 196/200\n",
            "2188/2188 [==============================] - 8s 4ms/step - loss: 5.3067e-04 - accuracy: 0.9994\n",
            "Epoch 197/200\n",
            "2188/2188 [==============================] - 7s 3ms/step - loss: 4.0071e-04 - accuracy: 0.9996\n",
            "Epoch 198/200\n",
            "2188/2188 [==============================] - 8s 3ms/step - loss: 5.9673e-04 - accuracy: 0.9994\n",
            "Epoch 199/200\n",
            "2188/2188 [==============================] - 8s 4ms/step - loss: 4.9240e-04 - accuracy: 0.9995\n",
            "Epoch 200/200\n",
            "2188/2188 [==============================] - 8s 4ms/step - loss: 5.0258e-04 - accuracy: 0.9995\n",
            "938/938 - 2s - loss: 0.0015 - accuracy: 0.9984 - 2s/epoch - 2ms/step\n"
          ]
        }
      ],
      "source": [
        "model.fit(x_train, y_train, epochs=200)\n",
        "score = model.evaluate(x_test, y_test, verbose=2)"
      ]
    },
    {
      "cell_type": "code",
      "execution_count": 12,
      "metadata": {
        "id": "lznry1JxVlab",
        "colab": {
          "base_uri": "https://localhost:8080/"
        },
        "outputId": "fe3cb755-89f6-416c-ccb3-6f3ac0d2ce31"
      },
      "outputs": [
        {
          "output_type": "stream",
          "name": "stdout",
          "text": [
            "938/938 [==============================] - 2s 2ms/step\n",
            "Number of matches: 29951 out of 30000\n"
          ]
        }
      ],
      "source": [
        "#Comparing the data and writing into the file ( input_output_predict.txt)\n",
        "y_predict = model.predict(x_test).round()\n",
        "\n",
        "f = open(\"input_output_predict.txt\", \"w\")\n",
        "n = y_test.size\n",
        "cnt = 0\n",
        "for i in range(0,n):\n",
        "    f.write(\"[\")\n",
        "    count = 0\n",
        "    for x in x_test[i]:\n",
        "        for j in x:\n",
        "          f.write(str(j)+\",\")\n",
        "    f.write(\"];\\t\")\n",
        "    f.write(\"[\"+str(y_test[i])+\"];\\t\")\n",
        "    f.write(\"[\"+str(y_predict[i])+\"];\\t \\n\")\n",
        "    if y_predict[i]==y_test[i]:\n",
        "      cnt+=1\n",
        "f.write(\"Number of matches: \"+str(cnt)+\" out of \" + str(n) +\"\\n\")\n",
        "f.close()\n",
        "print(\"Number of matches: \"+str(cnt)+\" out of \" + str(n) )"
      ]
    },
    {
      "cell_type": "code",
      "execution_count": 12,
      "metadata": {
        "id": "UC156H5dXBun"
      },
      "outputs": [],
      "source": []
    }
  ],
  "metadata": {
    "colab": {
      "provenance": [],
      "include_colab_link": true
    },
    "kernelspec": {
      "display_name": "Python 3",
      "name": "python3"
    },
    "language_info": {
      "name": "python"
    },
    "accelerator": "GPU",
    "gpuClass": "standard"
  },
  "nbformat": 4,
  "nbformat_minor": 0
}